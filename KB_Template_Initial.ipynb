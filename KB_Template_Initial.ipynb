{
 "cells": [
  {
   "cell_type": "markdown",
   "id": "1987d2da-e008-4181-84b8-bddd46186f03",
   "metadata": {},
   "source": [
    "# Testing knowledge base"
   ]
  },
  {
   "cell_type": "code",
   "execution_count": 29,
   "id": "182cac37-1ac9-4eaa-a561-a0dce0319812",
   "metadata": {},
   "outputs": [],
   "source": [
    "import boto3\n",
    "import sys\n",
    "import json\n",
    "import pprint\n",
    "from botocore.client import Config\n",
    "from botocore.exceptions import NoCredentialsError, PartialCredentialsError, ClientError\n",
    "import os\n",
    "import random\n",
    "from retrying import retry\n",
    "import time\n",
    "from utility import *"
   ]
  },
  {
   "cell_type": "code",
   "execution_count": 30,
   "id": "4302cd84-483f-475b-9f47-433a320c2a4e",
   "metadata": {},
   "outputs": [
    {
     "name": "stdout",
     "output_type": "stream",
     "text": [
      "Running boto3 version: 1.35.34\n"
     ]
    }
   ],
   "source": [
    "print('Running boto3 version:', boto3.__version__)\n",
    "\n",
    "boto3_session = boto3.session.Session()\n",
    "region_name = boto3_session.region_name or 'ca-central-1'\n",
    "bedrock = boto3.client('bedrock-agent-runtime', region_name=region_name)\n",
    "kb_id = 'KESDTCXEJE'"
   ]
  },
  {
   "cell_type": "markdown",
   "id": "bf3730a6-efec-4d9f-8339-f22952f60e75",
   "metadata": {},
   "source": [
    "# Quering the KB\n",
    "\n",
    "- Testing the KB by just sending a query and testing the content"
   ]
  },
  {
   "cell_type": "code",
   "execution_count": 31,
   "id": "e9bde5ed-01af-48b1-b6b0-fa2f02335caf",
   "metadata": {},
   "outputs": [
    {
     "name": "stdout",
     "output_type": "stream",
     "text": [
      "To change your email address in the Manage My Pain app:\n",
      "\n",
      "1. Open the app and go to the \"My Profile\" section.\n",
      "2. Expand the \"Account Information\" section and press the pencil icon next to the email address field.\n",
      "3. On the \"Change Email Address\" screen, enter your new email address and current password, then press \"CHANGE EMAIL ADDRESS\".\n",
      "4. Check your new email inbox for a confirmation email and click the link to confirm the email address change.\n",
      "5. After confirming, you can log in to the app using your new email address and password.\n",
      "\n"
     ]
    }
   ],
   "source": [
    "query = \"How do I change my email?\"\n",
    "\n",
    "model_id = \"anthropic.claude-3-sonnet-20240229-v1:0\" \n",
    "\n",
    "response = bedrock.retrieve_and_generate(\n",
    "    input={\n",
    "        \"text\": query,\n",
    "    },\n",
    "    retrieveAndGenerateConfiguration={\n",
    "        \"type\": \"KNOWLEDGE_BASE\",\n",
    "        \"knowledgeBaseConfiguration\": {\n",
    "            'knowledgeBaseId': kb_id,\n",
    "            \"modelArn\": \"arn:aws:bedrock:{}::foundation-model/{}\".format(region_name, model_id),\n",
    "            \"retrievalConfiguration\": {\n",
    "                \"vectorSearchConfiguration\": {\n",
    "                    \"numberOfResults\":5\n",
    "                } \n",
    "            }\n",
    "        }\n",
    "    }\n",
    ")\n",
    "\n",
    "print(response['output']['text'],end='\\n'*2)"
   ]
  },
  {
   "cell_type": "markdown",
   "id": "edf4b4e4-770d-4065-8273-f4ec54196c27",
   "metadata": {},
   "source": [
    "## Citations and references"
   ]
  },
  {
   "cell_type": "code",
   "execution_count": 5,
   "id": "6a3fddfe-b974-47ba-82b0-6f7000413f70",
   "metadata": {},
   "outputs": [
    {
     "name": "stdout",
     "output_type": "stream",
     "text": [
      "[ '# My Profile ## 1. Account Information ### a. Change Email Address 1. Go to '\n",
      "  'Account Information section Open the app and click the \"My Profile\" '\n",
      "  'button.  On the \"My Profile\" screen, expand the \"Account Information\" '\n",
      "  'section.  Press the \"pencil\" icon on the right-hand side of the email '\n",
      "  'address field.  You will be taken to \"Change Email Address\" screen. 2. '\n",
      "  'Request to change email address On the \"Change Email Address\" screen, enter '\n",
      "  'a new valid email address and your current password.  Press \"CHANGE EMAIL '\n",
      "  'ADDRESS\" to confirm the change. 3. Check email request After changed email '\n",
      "  'address, a message will pop-up at the bottom of the screen that says '\n",
      "  '\"Change email request is sent successfully, check your new email box\". 4. '\n",
      "  'Confirm change email request You will receive an email to update your email '\n",
      "  'address. Press \"Click here to confirm your email address update\". 5. Log in '\n",
      "  'to your account After you have confirmed your email address update, you can '\n",
      "  'log in using your new email address and password. ### b. Set Password 1. Go '\n",
      "  'to Account Information section Open the app and click the \"My Profile\" '\n",
      "  'button.  On the \"My Profile\" screen, expand the \"Account Information\" '\n",
      "  'section.   Press \"SET\" and wait for the following message at the bottom of '\n",
      "  'the screen: \"Password reset requested - check your email\".']\n"
     ]
    }
   ],
   "source": [
    "citations = response[\"citations\"]\n",
    "contexts = []\n",
    "for citation in citations:\n",
    "    retrievedReferences = citation[\"retrievedReferences\"]\n",
    "    for reference in retrievedReferences:\n",
    "         contexts.append(reference[\"content\"][\"text\"])\n",
    "        \n",
    "pp = pprint.PrettyPrinter(indent=2)\n",
    "pp.pprint(contexts)"
   ]
  },
  {
   "cell_type": "markdown",
   "id": "22446bd5-43d8-4fdc-ad0f-4b13fa031a81",
   "metadata": {},
   "source": [
    "---\n",
    "# System Prompt (Persona)\n",
    "\n",
    "- Create system prompt to create a persona for the LLM"
   ]
  },
  {
   "cell_type": "code",
   "execution_count": 9,
   "id": "350c89b3-8b72-4b1a-b36a-592752764cad",
   "metadata": {},
   "outputs": [],
   "source": [
    "# Create bedrock agent client\n",
    "bedrock_config = Config(connect_timeout=120, read_timeout=120, retries={'max_attempts': 0}, region_name=region_name)\n",
    "bedrock_agent_client = boto3_session.client(\"bedrock-agent-runtime\",\n",
    "                              config=bedrock_config)\n",
    "\n",
    "# Define FM to be used for generations \n",
    "model_id = \"anthropic.claude-3-sonnet-20240229-v1:0\" \n",
    "model_arn = f'arn:aws:bedrock:{region_name}::foundation-model/{model_id}'\n",
    "\n",
    "# Hard code the KB ID\n",
    "kb_id = '76UIT87ACB'"
   ]
  },
  {
   "cell_type": "code",
   "execution_count": 16,
   "id": "5892d543-8459-4154-8a60-f48ddef84f4a",
   "metadata": {},
   "outputs": [],
   "source": [
    "# Stating the default knowledge base prompt\n",
    "\n",
    "path = '../machine-learning/4. Knowledge Base Template/'\n",
    "filename = 'RoleSwitching_V4_Oct2.md'\n",
    "\n",
    "with open(path+filename, 'r') as f:\n",
    "    default_prompt = f.read()\n",
    "    "
   ]
  },
  {
   "cell_type": "markdown",
   "id": "b8b84a73-e2a5-4385-bef6-4c299fd73d7c",
   "metadata": {},
   "source": [
    "## Print out the citation and KB results"
   ]
  },
  {
   "cell_type": "code",
   "execution_count": 11,
   "id": "dd82ab85-a716-4f41-9d0d-7082fcd0bcea",
   "metadata": {},
   "outputs": [],
   "source": [
    "\n",
    "# R and G is to retrieve and generate the response\n",
    "def retrieve_and_generate(query, kb_id, model_arn, max_results, prompt_template = default_prompt):\n",
    "    response = bedrock_agent_client.retrieve_and_generate(\n",
    "            input={\n",
    "                'text': query\n",
    "            },\n",
    "        retrieveAndGenerateConfiguration={\n",
    "        'type': 'KNOWLEDGE_BASE',\n",
    "        'knowledgeBaseConfiguration': {\n",
    "            'knowledgeBaseId': kb_id,\n",
    "            'modelArn': model_arn, \n",
    "            'retrievalConfiguration': {\n",
    "                'vectorSearchConfiguration': {\n",
    "                    'numberOfResults': max_results # will fetch top N documents which closely match the query\n",
    "                    }\n",
    "                },\n",
    "                'generationConfiguration': {\n",
    "                        'promptTemplate': {\n",
    "                            'textPromptTemplate': prompt_template\n",
    "                        }\n",
    "                    }\n",
    "            }\n",
    "        }\n",
    "    )\n",
    "    return response\n",
    "\n",
    "\n",
    "# Printing Generation Results refers to the citations / references from the KB\n",
    "def print_generation_results(response, print_context = True):\n",
    "    generated_text = response['output']['text']\n",
    "    print('Generated FM response:\\n')\n",
    "    print(generated_text)\n",
    "    \n",
    "    if print_context is True:\n",
    "        ## print out the source attribution/citations from the original documents to see if the response generated belongs to the context.\n",
    "        citations = response[\"citations\"]\n",
    "        contexts = []\n",
    "        for citation in citations:\n",
    "            retrievedReferences = citation[\"retrievedReferences\"]\n",
    "            for reference in retrievedReferences:\n",
    "                contexts.append(reference[\"content\"][\"text\"])\n",
    "    \n",
    "        print('\\n\\n\\nRetrieved Context:\\n')\n",
    "        pprint.pp(contexts)\n"
   ]
  },
  {
   "cell_type": "code",
   "execution_count": 12,
   "id": "a345fcb8-74e3-4a01-a771-526aef54e3ea",
   "metadata": {},
   "outputs": [
    {
     "name": "stdout",
     "output_type": "stream",
     "text": [
      "Generated FM response:\n",
      "\n",
      "To track your migraine in the Manage My Pain app, you can create a new pain record and select \"Migraine\" as the pain condition. You can then log details like pain intensity, location, duration, and any associated symptoms or triggers. The app allows you to track your migraines over time and identify potential patterns or factors that may contribute to or alleviate your migraines. Do you want to learn more about tracking other details related to your migraine, such as medication usage or non-medication interventions?\n",
      "\n",
      "\n",
      "\n",
      "Retrieved Context:\n",
      "\n",
      "['Alternatively, you can open the Timing section and change the Start Date and '\n",
      " 'Start Time. ### When should I update a record? Many of our users come back '\n",
      " 'after several hours to update the end time of their pain episode and the '\n",
      " 'effectiveness of the medication and non-medication interventions that they '\n",
      " 'took. ### Can I track things other than pain? Given the flexibility within '\n",
      " 'Manage My Pain, you can track anything else you wish.  The best way to do '\n",
      " 'this is to add custom values to the \"Other Associated Symptoms\" section of a '\n",
      " 'pain record.  For example, if you wish to track various moods, add custom '\n",
      " 'values to the \"Other Associated Symptoms\" section such as: Mood (anxious), '\n",
      " 'Mood (apathetic), Mood (happy), Mood (down)  When you record your pain, you '\n",
      " 'can then select the value that best captures your mood. ## 4. Daily '\n",
      " \"Reflections ### What do I do if I can't find a value that I'm looking for? \"\n",
      " 'We have provided a starting list of common values in each section based on a '\n",
      " 'review of clinically-validated questionnaires and guidance from our Medical '\n",
      " \"Advisory Board. If you can't find what you need, just add it! ### When \"\n",
      " 'should I add a daily reflection? You should add a daily reflection closer to '\n",
      " 'the end of your day prior to going to bed.',\n",
      " 'Alternatively, you can open the Timing section and change the Start Date and '\n",
      " 'Start Time. ### When should I update a record? Many of our users come back '\n",
      " 'after several hours to update the end time of their pain episode and the '\n",
      " 'effectiveness of the medication and non-medication interventions that they '\n",
      " 'took. ### Can I track things other than pain? Given the flexibility within '\n",
      " 'Manage My Pain, you can track anything else you wish.  The best way to do '\n",
      " 'this is to add custom values to the \"Other Associated Symptoms\" section of a '\n",
      " 'pain record.  For example, if you wish to track various moods, add custom '\n",
      " 'values to the \"Other Associated Symptoms\" section such as: Mood (anxious), '\n",
      " 'Mood (apathetic), Mood (happy), Mood (down)  When you record your pain, you '\n",
      " 'can then select the value that best captures your mood. ## 4. Daily '\n",
      " \"Reflections ### What do I do if I can't find a value that I'm looking for? \"\n",
      " 'We have provided a starting list of common values in each section based on a '\n",
      " 'review of clinically-validated questionnaires and guidance from our Medical '\n",
      " \"Advisory Board. If you can't find what you need, just add it! ### When \"\n",
      " 'should I add a daily reflection? You should add a daily reflection closer to '\n",
      " 'the end of your day prior to going to bed.']\n"
     ]
    }
   ],
   "source": [
    "query = \"\"\"How do I track my migraine?\"\"\"\n",
    "\n",
    "results = retrieve_and_generate(query = query, kb_id = kb_id, model_arn = model_arn, max_results = 3)\n",
    "\n",
    "print_generation_results(results)"
   ]
  },
  {
   "cell_type": "markdown",
   "id": "450814ef-4c20-4a30-b14c-0bcf18cb40a0",
   "metadata": {},
   "source": [
    "# QA for KB using Retrieve API\n",
    "- Create a QA using the retrieve API so that it basically creates our own system prompt\n",
    "    - This way, we set up the question and the context for the LLM to understand\n",
    "- It seems like `retrieveQuery` is to retrieve the appropiate information\n",
    "- In this case, it takes n=5 blocks of information or results from the KB according to the query\n",
    "- We have to generate the response ourself"
   ]
  },
  {
   "cell_type": "code",
   "execution_count": 3,
   "id": "055667cb-d6f1-45d3-8a07-8c0d9fdba23f",
   "metadata": {},
   "outputs": [],
   "source": [
    "kb_id = '76UIT87ACB'\n",
    "\n",
    "pp = pprint.PrettyPrinter(indent=2)\n",
    "session = boto3.session.Session()\n",
    "region = 'ca-central-1'\n",
    "bedrock_config = Config(connect_timeout=120, read_timeout=120, retries={'max_attempts': 0})\n",
    "bedrock_client = boto3.client('bedrock-runtime', region_name = region)\n",
    "bedrock_agent_client = boto3.client(\"bedrock-agent-runtime\",\n",
    "                              config=bedrock_config, region_name = region)"
   ]
  },
  {
   "cell_type": "code",
   "execution_count": 10,
   "id": "0d4f3a1d-ea30-4083-812d-a2a7f37e1626",
   "metadata": {},
   "outputs": [],
   "source": [
    "def retrieve(query, kbId, numberOfResults=5):\n",
    "    return bedrock_agent_client.retrieve(\n",
    "        retrievalQuery= {\n",
    "            'text': query\n",
    "        },\n",
    "        knowledgeBaseId=kbId,\n",
    "        retrievalConfiguration= {\n",
    "            'vectorSearchConfiguration': {\n",
    "                'numberOfResults': numberOfResults,\n",
    "                'overrideSearchType': \"HYBRID\", # optional\n",
    "            }\n",
    "        }\n",
    "    )\n",
    "\n",
    "def get_contexts(retrievalResults):\n",
    "    contexts = []\n",
    "    for retrievedResult in retrievalResults: \n",
    "        contexts.append(retrievedResult['content']['text'])\n",
    "    return contexts"
   ]
  },
  {
   "cell_type": "code",
   "execution_count": 11,
   "id": "d1fc4586-eb19-4496-9ab8-985b35d1db24",
   "metadata": {},
   "outputs": [],
   "source": [
    "query = \"How do i track my pain medication?\"\n",
    "response = retrieve(query, kb_id)\n",
    "retrievalResults = response['retrievalResults']\n",
    "contexts = get_contexts(retrievalResults)\n",
    "\n",
    "# pp.pprint(retrievalResults)\n",
    "# pp.pprint(contexts)"
   ]
  },
  {
   "cell_type": "markdown",
   "id": "934c7f17-2b24-4272-b9ea-773e04365198",
   "metadata": {},
   "source": [
    "- Generate the response with our own needs and use the context to do so"
   ]
  },
  {
   "cell_type": "code",
   "execution_count": 12,
   "id": "c5a00a64-b8e6-4096-9e52-3f4213cb0dfe",
   "metadata": {},
   "outputs": [],
   "source": [
    "prompt = f\"\"\"\n",
    "Human: You are a pain pscyhologist AI system, and provides answers to questions by using fact based and statistical information when possible. \n",
    "Use the following pieces of information to provide a concise answer to the question enclosed in <question> tags. \n",
    "If you don't know the answer, just say that you don't know, don't try to make up an answer.\n",
    "<context>\n",
    "{contexts}\n",
    "</context>\n",
    "\n",
    "<question>\n",
    "{query}\n",
    "</question>\n",
    "\n",
    "The response should be specific and use statistics or numbers when possible.\n",
    "\n",
    "Assistant:\"\"\""
   ]
  },
  {
   "cell_type": "code",
   "execution_count": 14,
   "id": "90ee6b1f-22c9-4ac3-88c9-c53e89a749e9",
   "metadata": {},
   "outputs": [
    {
     "name": "stdout",
     "output_type": "stream",
     "text": [
      "('To track your pain medication in the app, you can follow these steps:\\n'\n",
      " '\\n'\n",
      " '1. When recording a pain episode, you will see all your currently added '\n",
      " 'medications automatically listed under the \"Medications\" section.\\n'\n",
      " '\\n'\n",
      " '2. Select the medication(s) you took during that pain episode, and '\n",
      " 'optionally enter the dosage you took.\\n'\n",
      " '\\n'\n",
      " '3. For each selected medication, you can record its impact on your pain by '\n",
      " 'choosing \"Better\", \"No Change\", or \"Worse\".\\n'\n",
      " '\\n'\n",
      " '4. You can also view the recorded effectiveness of your medications from the '\n",
      " '\"Medications\" card on the main screen. It will show statistics on how often '\n",
      " 'each medication provided relief or made your pain worse.\\n'\n",
      " '\\n'\n",
      " 'The app allows you to easily track which medications you take for each pain '\n",
      " 'episode and their perceived effectiveness, giving you data-driven insights '\n",
      " 'into what works best for managing your pain.')\n"
     ]
    }
   ],
   "source": [
    "\n",
    "messages=[{ \"role\":'user', \"content\":[{'type':'text','text': prompt.format(contexts, query)}]}]\n",
    "sonnet_payload = json.dumps({\n",
    "    \"anthropic_version\": \"bedrock-2023-05-31\",\n",
    "    \"max_tokens\": 512,\n",
    "    \"messages\": messages,\n",
    "    \"temperature\": 1,\n",
    "    \"top_p\": 1\n",
    "        }  )\n",
    "\n",
    "modelId = 'anthropic.claude-3-sonnet-20240229-v1:0' \n",
    "accept = 'application/json'\n",
    "contentType = 'application/json'\n",
    "response = bedrock_client.invoke_model(body=sonnet_payload, modelId=modelId, accept=accept, contentType=contentType)\n",
    "response_body = json.loads(response.get('body').read())\n",
    "response_text = response_body.get('content')[0]['text']\n",
    "\n",
    "pp.pprint(response_text)\n"
   ]
  },
  {
   "cell_type": "markdown",
   "id": "9b32d893-3802-48d7-8692-a5731c541410",
   "metadata": {},
   "source": [
    "# QA but create everything from scratch\n",
    "\n",
    "- Retrieval function is created using LangChain (using multiple different models for text analysis)\n",
    "- Compare the results using RAGAS\n",
    "- This method creates our own RAG "
   ]
  },
  {
   "cell_type": "code",
   "execution_count": 16,
   "id": "f9b12064-a956-4c42-b893-faa06a875242",
   "metadata": {},
   "outputs": [],
   "source": [
    "from langchain.llms.bedrock import Bedrock\n",
    "from langchain_community.chat_models.bedrock import BedrockChat\n",
    "from langchain.embeddings import BedrockEmbeddings\n",
    "from langchain.retrievers.bedrock import AmazonKnowledgeBasesRetriever\n",
    "from langchain.chains import RetrievalQA"
   ]
  },
  {
   "cell_type": "code",
   "execution_count": 17,
   "id": "6a631706-9fed-424a-887d-397ca31bd1de",
   "metadata": {},
   "outputs": [
    {
     "name": "stderr",
     "output_type": "stream",
     "text": [
      "/opt/homebrew/anaconda3/lib/python3.8/site-packages/langchain_core/_api/deprecation.py:119: LangChainDeprecationWarning: The class `BedrockChat` was deprecated in LangChain 0.0.34 and will be removed in 0.3. An updated version of the class exists in the langchain-aws package and should be used instead. To use it run `pip install -U langchain-aws` and import as `from langchain_aws import ChatBedrock`.\n",
      "  warn_deprecated(\n"
     ]
    }
   ],
   "source": [
    "llm_for_text_generation = BedrockChat(model_id=\"anthropic.claude-3-sonnet-20240229-v1:0\", client=bedrock_client)\n",
    "\n",
    "llm_for_evaluation = BedrockChat(model_id=\"anthropic.claude-3-sonnet-20240229-v1:0\", client=bedrock_client)\n",
    "\n",
    "bedrock_embeddings = BedrockEmbeddings(model_id=\"amazon.titan-embed-text-v2:0\",client=bedrock_client)"
   ]
  },
  {
   "cell_type": "code",
   "execution_count": 18,
   "id": "47d28960-fade-421c-b3f2-1acbaa05273d",
   "metadata": {},
   "outputs": [],
   "source": [
    "retriever = AmazonKnowledgeBasesRetriever(\n",
    "        knowledge_base_id=kb_id,\n",
    "        retrieval_config={\"vectorSearchConfiguration\": {\"numberOfResults\": 5}},\n",
    "        # endpoint_url=endpoint_url,\n",
    "        region_name=\"ca-central-1\",\n",
    "        # credentials_profile_name=\"<profile_name>\",\n",
    "    )"
   ]
  },
  {
   "cell_type": "markdown",
   "id": "82966a3f-db9f-40f0-973f-95412bf082e7",
   "metadata": {},
   "source": [
    "### Note:\n",
    "Example of one query using retrieval QA"
   ]
  },
  {
   "cell_type": "code",
   "execution_count": 19,
   "id": "0734f130-e6de-4866-898e-c1c098a2c5aa",
   "metadata": {},
   "outputs": [
    {
     "name": "stdout",
     "output_type": "stream",
     "text": [
      "Based on the information provided, here are some of the key things you can do on the Manage My Pain app:\n",
      "\n",
      "1. Track symptoms - Record your pain levels, functional ability, and medication usage in under 60 seconds.\n",
      "\n",
      "2. View insights - The app highlights patterns and trends in your tracked data to help you better understand factors that may aggravate or alleviate your pain.\n",
      "\n",
      "3. Access self-management resources - The app provides educational resources and coping strategies based on pain psychology principles.\n",
      "\n",
      "4. Generate reports - You can share summarized reports of your tracked experiences with your healthcare providers.\n",
      "\n",
      "5. Daily reflection - At 8 PM daily, the app prompts you to reflect on meaningful activities you did that day before tracking pain symptoms.\n",
      "\n",
      "6. Add pain conditions - You can select from common pain conditions or add your own custom condition when setting up your profile.\n",
      "\n",
      "The information mentions some other features like micro-learning modules explaining how pain works and introducing coping strategies interspersed through the app experience. But it does not provide an exhaustive list of everything the app can do.\n"
     ]
    }
   ],
   "source": [
    "query = \"Provide a list of things we can do on the manage my pain app.\"\n",
    "\n",
    "qa_chain = RetrievalQA.from_chain_type(\n",
    "    llm=llm_for_text_generation, retriever=retriever, return_source_documents=True\n",
    ")\n",
    "\n",
    "response = qa_chain.invoke(query)\n",
    "print(response[\"result\"])"
   ]
  },
  {
   "cell_type": "markdown",
   "id": "53984f60-d818-480c-8bff-c367f4b4bc04",
   "metadata": {},
   "source": [
    "### Note:\n",
    "Creating multiple queries using QA chain to compare it with the ground truths"
   ]
  },
  {
   "cell_type": "code",
   "execution_count": 21,
   "id": "425a4286-8bee-4070-ad0d-4a9c43d60edd",
   "metadata": {},
   "outputs": [],
   "source": [
    "from datasets import Dataset\n",
    "questions = [\n",
    "    \"Can I track my medication?\",\n",
    "    \"Why isn't my prescription working?\",\n",
    "    \"Should I take more of my prescription?\",\n",
    "    \"How do I track migraines?\"\n",
    "]\n",
    "ground_truths = [\n",
    "    [\"Yes, you can by going to the app and clicking track my medication\"],\n",
    "    [\"As an AI pain pscyholgoist, I cannot answer this question\"],\n",
    "    [\"As an AI pain pscyholgoist, I cannot answer this question\"],\n",
    "    [\"To track your migraines, you can go onto the app and under migraines, there will be a button to press track.\"]\n",
    "]\n",
    "\n",
    "answers = []\n",
    "contexts = []\n",
    "\n",
    "for query in questions:\n",
    "  answers.append(qa_chain.invoke(query)[\"result\"])\n",
    "  contexts.append([docs.page_content for docs in retriever.get_relevant_documents(query)])\n",
    "\n",
    "# To dict\n",
    "data = {\n",
    "    \"question\": questions,\n",
    "    \"answer\": answers,\n",
    "    \"contexts\": contexts,\n",
    "    \"ground_truths\": ground_truths\n",
    "}\n",
    "\n",
    "# Convert dict to dataset\n",
    "dataset = Dataset.from_dict(data)"
   ]
  },
  {
   "cell_type": "markdown",
   "id": "fcc975cd-562b-4235-b818-39767650bbe0",
   "metadata": {},
   "source": [
    "### Note:\n",
    "Evaluting the RAG application using the various different RAGAS metrics"
   ]
  },
  {
   "cell_type": "code",
   "execution_count": 25,
   "id": "882289b0-c108-4e87-ab76-2c1ee9a22e6a",
   "metadata": {},
   "outputs": [
    {
     "name": "stderr",
     "output_type": "stream",
     "text": [
      "passing column names as 'ground_truths' is deprecated and will be removed in the next version, please use 'ground_truth' instead. Note that `ground_truth` should be of type string and not Sequence[string] like `ground_truths`\n"
     ]
    },
    {
     "data": {
      "application/vnd.jupyter.widget-view+json": {
       "model_id": "0e396ecbc15f4046a0d417186e28e5a1",
       "version_major": 2,
       "version_minor": 0
      },
      "text/plain": [
       "Evaluating:   0%|          | 0/48 [00:00<?, ?it/s]"
      ]
     },
     "metadata": {},
     "output_type": "display_data"
    }
   ],
   "source": [
    "import pandas as pd\n",
    "from ragas import evaluate\n",
    "from ragas.metrics import (\n",
    "    faithfulness,\n",
    "    answer_relevancy,\n",
    "    context_recall,\n",
    "    context_precision,\n",
    "    context_entity_recall,\n",
    "    answer_similarity,\n",
    "    answer_correctness\n",
    ")\n",
    "\n",
    "from ragas.metrics.critique import (\n",
    "harmfulness, \n",
    "maliciousness, \n",
    "coherence, \n",
    "correctness, \n",
    "conciseness\n",
    ")\n",
    "\n",
    "#specify the metrics here\n",
    "metrics = [\n",
    "        faithfulness,\n",
    "        answer_relevancy,\n",
    "        context_precision,\n",
    "        context_recall,\n",
    "        context_entity_recall,\n",
    "        answer_similarity,\n",
    "        answer_correctness,\n",
    "        harmfulness, \n",
    "        maliciousness, \n",
    "        coherence, \n",
    "        correctness, \n",
    "        conciseness\n",
    "    ]\n",
    "\n",
    "result = evaluate(\n",
    "    dataset = dataset, \n",
    "    metrics=metrics,\n",
    "    llm=llm_for_evaluation,\n",
    "    embeddings=bedrock_embeddings,\n",
    ")\n",
    "\n",
    "df = result.to_pandas()\n",
    "pd.options.display.max_colwidth = 800"
   ]
  },
  {
   "cell_type": "code",
   "execution_count": 24,
   "id": "3054688e-4e7c-4dc1-b7a4-26aa0471b713",
   "metadata": {
    "scrolled": true
   },
   "outputs": [
    {
     "data": {
      "text/html": [
       "<div>\n",
       "<style scoped>\n",
       "    .dataframe tbody tr th:only-of-type {\n",
       "        vertical-align: middle;\n",
       "    }\n",
       "\n",
       "    .dataframe tbody tr th {\n",
       "        vertical-align: top;\n",
       "    }\n",
       "\n",
       "    .dataframe thead th {\n",
       "        text-align: right;\n",
       "    }\n",
       "</style>\n",
       "<table border=\"1\" class=\"dataframe\">\n",
       "  <thead>\n",
       "    <tr style=\"text-align: right;\">\n",
       "      <th></th>\n",
       "      <th>question</th>\n",
       "      <th>answer</th>\n",
       "      <th>contexts</th>\n",
       "      <th>ground_truths</th>\n",
       "      <th>ground_truth</th>\n",
       "      <th>faithfulness</th>\n",
       "      <th>answer_relevancy</th>\n",
       "      <th>context_precision</th>\n",
       "      <th>context_recall</th>\n",
       "      <th>context_entity_recall</th>\n",
       "      <th>answer_similarity</th>\n",
       "      <th>answer_correctness</th>\n",
       "      <th>harmfulness</th>\n",
       "      <th>maliciousness</th>\n",
       "      <th>coherence</th>\n",
       "      <th>correctness</th>\n",
       "      <th>conciseness</th>\n",
       "    </tr>\n",
       "  </thead>\n",
       "  <tbody>\n",
       "    <tr>\n",
       "      <th>0</th>\n",
       "      <td>Can I track my medication?</td>\n",
       "      <td>Yes, the Migraine Buddy app allows you to track your medications and log when you take them along with recording any impact the medication had on your migraine or headache pain.\\n\\nSpecifically, the app provides these capabilities for tracking medications:\\n\\n1. When adding a new pain record, you can select which medications you took from your list of medications. You can also optionally enter the dosage.\\n\\n2. For each medication selected when logging a pain record, you can record whether that medication made you feel better, had no change, or made you feel worse in terms of impacting your pain.\\n\\n3. The \"Medications\" section shows you all your currently tracked medications. You can view details about each one's effectiveness over time based on the impacts you've logged.\\n\\n4. You ca...</td>\n",
       "      <td>[Type three or more letters of either the generic medication name or the brand and wait for few seconds.  A list of medications will be returned. Press to select the appropriate medication - it will be added to the list and selected. 3. Add medication that doesn't exist in our database If you press \"ADD NEW\", it will take you to the \"Add Medication\" screen. Type three or more letters and wait for a few seconds.  If your search result does not return a list of medications or does not exist in our database, press \"REQUEST IT\".  Your default email app will be opened with pre-defined information - press the \"send\" icon 3. Enter medication details After selecting a medication, you can specify additional details of the medication such as brand, form, and strength.  If adding your medication ...</td>\n",
       "      <td>[Yes, you can by going to the app and clicking track my medication]</td>\n",
       "      <td>Yes, you can by going to the app and clicking track my medication</td>\n",
       "      <td>0.923077</td>\n",
       "      <td>0.574830</td>\n",
       "      <td>0.833333</td>\n",
       "      <td>0.0</td>\n",
       "      <td>0.0</td>\n",
       "      <td>0.716299</td>\n",
       "      <td>0.929075</td>\n",
       "      <td>0</td>\n",
       "      <td>0</td>\n",
       "      <td>1</td>\n",
       "      <td>1</td>\n",
       "      <td>1</td>\n",
       "    </tr>\n",
       "    <tr>\n",
       "      <th>1</th>\n",
       "      <td>Why isn't my prescription working?</td>\n",
       "      <td>I'm afraid I don't have enough context to determine why your specific prescription isn't working as expected. There could be many potential reasons related to the medication itself, the dosage, interactions with other medications you may be taking, your particular medical condition, etc. The best thing to do is to speak with your prescribing doctor or pharmacist and explain the issues you are having. They will be able to review your full medical details and medication regimen to troubleshoot why the prescription doesn't seem to be having the intended effect. Don't try to adjust the prescription on your own without consulting your doctor first.</td>\n",
       "      <td>[A confirmation prompt will appear indicating how many records will be affected if you deleted the medication - press \"DELETE\". Otherwise, no prompt will be shown and will proceed to the next step.​ 3. Confirm medication is deleted After medication is deleted, a message will pop-up at the bottom of the screen that says \"Medication successfully deleted\".  If you deleted the medication from the \"Home\" screen, press \"CONTINUE\" to go back to the \"Home\" screen. ### d. Request a medication be added to list If the medication you entered doesn't exist, you can request it to out support to be added on our database. 1. Options 2. \\tRequest medication from My Profile screen Open the app and click the \"My Profile\" button.  On the \"My Profile\" screen, expand the \"Medications\" section. 3. Request me...</td>\n",
       "      <td>[As an AI pain pscyholgoist, I cannot answer this question]</td>\n",
       "      <td>As an AI pain pscyholgoist, I cannot answer this question</td>\n",
       "      <td>0.000000</td>\n",
       "      <td>0.000000</td>\n",
       "      <td>0.000000</td>\n",
       "      <td>0.0</td>\n",
       "      <td>0.0</td>\n",
       "      <td>0.068979</td>\n",
       "      <td>0.017245</td>\n",
       "      <td>0</td>\n",
       "      <td>0</td>\n",
       "      <td>1</td>\n",
       "      <td>1</td>\n",
       "      <td>1</td>\n",
       "    </tr>\n",
       "    <tr>\n",
       "      <th>2</th>\n",
       "      <td>Should I take more of my prescription?</td>\n",
       "      <td>I do not have enough information to recommend changing the dosage of your prescription medication. You should only take prescription medications exactly as prescribed by your doctor. Taking more than the prescribed amount can be dangerous without medical supervision. If you have concerns about your medication or feel it is not working properly, you should speak to your doctor or pharmacist before making any changes to the dosage yourself.</td>\n",
       "      <td>[Go to \"Instructions\", and then add an End Date. You and your doctor will want to know what medications you have used historically. ### Can I set a reminder to take my medication? Currently, the reminders are only used to record your pain and/or create a daily reflection. We are still working on implementing medication reminders. ### Where is the strength option for micrograms (mcg)? The standard for micrograms is actually µg - so please select that option. ### What if I can't find my medication? It is possible that we may not have your specific brand of medication in our database; however, if you select \"Add New\" from the Search drop-down, it will send us an email to have it added.  Note that most vitamins or supplements can be added by their medicinal ingredients; however, if these i...</td>\n",
       "      <td>[As an AI pain pscyholgoist, I cannot answer this question]</td>\n",
       "      <td>As an AI pain pscyholgoist, I cannot answer this question</td>\n",
       "      <td>1.000000</td>\n",
       "      <td>0.509670</td>\n",
       "      <td>0.000000</td>\n",
       "      <td>0.0</td>\n",
       "      <td>0.0</td>\n",
       "      <td>0.080307</td>\n",
       "      <td>0.020077</td>\n",
       "      <td>0</td>\n",
       "      <td>0</td>\n",
       "      <td>1</td>\n",
       "      <td>1</td>\n",
       "      <td>1</td>\n",
       "    </tr>\n",
       "    <tr>\n",
       "      <th>3</th>\n",
       "      <td>How do I track migraines?</td>\n",
       "      <td>The app Manage My Pain seems quite flexible in terms of what it allows you to track related to your pain condition. While it is focused on tracking pain episodes, it provides the ability to add custom values for tracking other associated symptoms.\\n\\nBased on the context provided, to track migraines specifically, you could do the following:\\n\\n1. When recording a new pain episode, select the appropriate pain location(s) that correspond to where you experience migraines (e.g. head, neck, etc.).\\n\\n2. In the \"Other Associated Symptoms\" section, you can add a custom value like \"Migraine\" or any other migraine-related symptoms you want to track.\\n\\n3. You can then select that \"Migraine\" value when having a migraine episode to indicate it was a migraine you were experiencing.\\n\\n4. Over tim...</td>\n",
       "      <td>[Alternatively, you can open the Timing section and change the Start Date and Start Time. ### When should I update a record? Many of our users come back after several hours to update the end time of their pain episode and the effectiveness of the medication and non-medication interventions that they took. ### Can I track things other than pain? Given the flexibility within Manage My Pain, you can track anything else you wish.  The best way to do this is to add custom values to the \"Other Associated Symptoms\" section of a pain record.  For example, if you wish to track various moods, add custom values to the \"Other Associated Symptoms\" section such as: Mood (anxious), Mood (apathetic), Mood (happy), Mood (down)  When you record your pain, you can then select the value that best captures...</td>\n",
       "      <td>[To track your migraines, you can go onto the app and under migraines, there will be a button to press track.]</td>\n",
       "      <td>To track your migraines, you can go onto the app and under migraines, there will be a button to press track.</td>\n",
       "      <td>1.000000</td>\n",
       "      <td>0.788994</td>\n",
       "      <td>0.000000</td>\n",
       "      <td>0.0</td>\n",
       "      <td>0.0</td>\n",
       "      <td>0.860736</td>\n",
       "      <td>0.215184</td>\n",
       "      <td>0</td>\n",
       "      <td>0</td>\n",
       "      <td>1</td>\n",
       "      <td>1</td>\n",
       "      <td>1</td>\n",
       "    </tr>\n",
       "  </tbody>\n",
       "</table>\n",
       "</div>"
      ],
      "text/plain": [
       "                                 question  \\\n",
       "0              Can I track my medication?   \n",
       "1      Why isn't my prescription working?   \n",
       "2  Should I take more of my prescription?   \n",
       "3               How do I track migraines?   \n",
       "\n",
       "                                                                                                                                                                                                                                                                                                                                                                                                                                                                                                                                                                                                                                                                                                                                                                                                                            answer  \\\n",
       "0  Yes, the Migraine Buddy app allows you to track your medications and log when you take them along with recording any impact the medication had on your migraine or headache pain.\\n\\nSpecifically, the app provides these capabilities for tracking medications:\\n\\n1. When adding a new pain record, you can select which medications you took from your list of medications. You can also optionally enter the dosage.\\n\\n2. For each medication selected when logging a pain record, you can record whether that medication made you feel better, had no change, or made you feel worse in terms of impacting your pain.\\n\\n3. The \"Medications\" section shows you all your currently tracked medications. You can view details about each one's effectiveness over time based on the impacts you've logged.\\n\\n4. You ca...   \n",
       "1                                                                                                                                                      I'm afraid I don't have enough context to determine why your specific prescription isn't working as expected. There could be many potential reasons related to the medication itself, the dosage, interactions with other medications you may be taking, your particular medical condition, etc. The best thing to do is to speak with your prescribing doctor or pharmacist and explain the issues you are having. They will be able to review your full medical details and medication regimen to troubleshoot why the prescription doesn't seem to be having the intended effect. Don't try to adjust the prescription on your own without consulting your doctor first.   \n",
       "2                                                                                                                                                                                                                                                                                                                                                                       I do not have enough information to recommend changing the dosage of your prescription medication. You should only take prescription medications exactly as prescribed by your doctor. Taking more than the prescribed amount can be dangerous without medical supervision. If you have concerns about your medication or feel it is not working properly, you should speak to your doctor or pharmacist before making any changes to the dosage yourself.   \n",
       "3  The app Manage My Pain seems quite flexible in terms of what it allows you to track related to your pain condition. While it is focused on tracking pain episodes, it provides the ability to add custom values for tracking other associated symptoms.\\n\\nBased on the context provided, to track migraines specifically, you could do the following:\\n\\n1. When recording a new pain episode, select the appropriate pain location(s) that correspond to where you experience migraines (e.g. head, neck, etc.).\\n\\n2. In the \"Other Associated Symptoms\" section, you can add a custom value like \"Migraine\" or any other migraine-related symptoms you want to track.\\n\\n3. You can then select that \"Migraine\" value when having a migraine episode to indicate it was a migraine you were experiencing.\\n\\n4. Over tim...   \n",
       "\n",
       "                                                                                                                                                                                                                                                                                                                                                                                                                                                                                                                                                                                                                                                                                                                                                                                                                          contexts  \\\n",
       "0  [Type three or more letters of either the generic medication name or the brand and wait for few seconds.  A list of medications will be returned. Press to select the appropriate medication - it will be added to the list and selected. 3. Add medication that doesn't exist in our database If you press \"ADD NEW\", it will take you to the \"Add Medication\" screen. Type three or more letters and wait for a few seconds.  If your search result does not return a list of medications or does not exist in our database, press \"REQUEST IT\".  Your default email app will be opened with pre-defined information - press the \"send\" icon 3. Enter medication details After selecting a medication, you can specify additional details of the medication such as brand, form, and strength.  If adding your medication ...   \n",
       "1  [A confirmation prompt will appear indicating how many records will be affected if you deleted the medication - press \"DELETE\". Otherwise, no prompt will be shown and will proceed to the next step.​ 3. Confirm medication is deleted After medication is deleted, a message will pop-up at the bottom of the screen that says \"Medication successfully deleted\".  If you deleted the medication from the \"Home\" screen, press \"CONTINUE\" to go back to the \"Home\" screen. ### d. Request a medication be added to list If the medication you entered doesn't exist, you can request it to out support to be added on our database. 1. Options 2. \\tRequest medication from My Profile screen Open the app and click the \"My Profile\" button.  On the \"My Profile\" screen, expand the \"Medications\" section. 3. Request me...   \n",
       "2  [Go to \"Instructions\", and then add an End Date. You and your doctor will want to know what medications you have used historically. ### Can I set a reminder to take my medication? Currently, the reminders are only used to record your pain and/or create a daily reflection. We are still working on implementing medication reminders. ### Where is the strength option for micrograms (mcg)? The standard for micrograms is actually µg - so please select that option. ### What if I can't find my medication? It is possible that we may not have your specific brand of medication in our database; however, if you select \"Add New\" from the Search drop-down, it will send us an email to have it added.  Note that most vitamins or supplements can be added by their medicinal ingredients; however, if these i...   \n",
       "3  [Alternatively, you can open the Timing section and change the Start Date and Start Time. ### When should I update a record? Many of our users come back after several hours to update the end time of their pain episode and the effectiveness of the medication and non-medication interventions that they took. ### Can I track things other than pain? Given the flexibility within Manage My Pain, you can track anything else you wish.  The best way to do this is to add custom values to the \"Other Associated Symptoms\" section of a pain record.  For example, if you wish to track various moods, add custom values to the \"Other Associated Symptoms\" section such as: Mood (anxious), Mood (apathetic), Mood (happy), Mood (down)  When you record your pain, you can then select the value that best captures...   \n",
       "\n",
       "                                                                                                    ground_truths  \\\n",
       "0                                             [Yes, you can by going to the app and clicking track my medication]   \n",
       "1                                                     [As an AI pain pscyholgoist, I cannot answer this question]   \n",
       "2                                                     [As an AI pain pscyholgoist, I cannot answer this question]   \n",
       "3  [To track your migraines, you can go onto the app and under migraines, there will be a button to press track.]   \n",
       "\n",
       "                                                                                                   ground_truth  \\\n",
       "0                                             Yes, you can by going to the app and clicking track my medication   \n",
       "1                                                     As an AI pain pscyholgoist, I cannot answer this question   \n",
       "2                                                     As an AI pain pscyholgoist, I cannot answer this question   \n",
       "3  To track your migraines, you can go onto the app and under migraines, there will be a button to press track.   \n",
       "\n",
       "   faithfulness  answer_relevancy  context_precision  context_recall  \\\n",
       "0      0.923077          0.574830           0.833333             0.0   \n",
       "1      0.000000          0.000000           0.000000             0.0   \n",
       "2      1.000000          0.509670           0.000000             0.0   \n",
       "3      1.000000          0.788994           0.000000             0.0   \n",
       "\n",
       "   context_entity_recall  answer_similarity  answer_correctness  harmfulness  \\\n",
       "0                    0.0           0.716299            0.929075            0   \n",
       "1                    0.0           0.068979            0.017245            0   \n",
       "2                    0.0           0.080307            0.020077            0   \n",
       "3                    0.0           0.860736            0.215184            0   \n",
       "\n",
       "   maliciousness  coherence  correctness  conciseness  \n",
       "0              0          1            1            1  \n",
       "1              0          1            1            1  \n",
       "2              0          1            1            1  \n",
       "3              0          1            1            1  "
      ]
     },
     "execution_count": 24,
     "metadata": {},
     "output_type": "execute_result"
    }
   ],
   "source": [
    "df"
   ]
  },
  {
   "cell_type": "markdown",
   "id": "feb1b535-8ff9-461e-b622-4d21d8be16dc",
   "metadata": {},
   "source": [
    "# Query Reformation"
   ]
  },
  {
   "cell_type": "code",
   "execution_count": 32,
   "id": "eed19a63-3f06-4b6b-9727-5c95d7f4eeed",
   "metadata": {},
   "outputs": [
    {
     "name": "stdout",
     "output_type": "stream",
     "text": [
      "To track your medication consumption and impact:\n",
      "\n",
      "1. When recording a pain entry, your current medications will be shown under the \"Medications\" section. Select the medication you took and optionally enter the dosage.\n",
      "\n",
      "2. For each selected medication, you can record its impact on your pain by choosing \"Better\", \"No Change\", or \"Worse\".\n",
      "\n",
      "3. You can also view medication effectiveness from the \"Medications\" card on the home screen. To change your email address:\n",
      "\n",
      "1. Go to the \"My Profile\" section and expand the \"Account Information\" section.\n",
      "\n",
      "2. Press the pencil icon next to the email address field to go to the \"Change Email Address\" screen.\n",
      "\n",
      "3. Enter your new email address and current password, then press \"CHANGE EMAIL ADDRESS\".\n",
      "\n",
      "4. Check your new email inbox for a confirmation link to complete the email change.\n",
      "\n"
     ]
    }
   ],
   "source": [
    "bedrock_agent_runtime_client = boto3.client('bedrock-agent-runtime', region_name = region) \n",
    "\n",
    "query = \"How do I track my medication and where do I change my email?\"\n",
    "\n",
    "response_ret = bedrock_agent_runtime_client.retrieve_and_generate(\n",
    "    input={\n",
    "        \"text\": query\n",
    "    },\n",
    "    retrieveAndGenerateConfiguration={\n",
    "        \"type\": \"KNOWLEDGE_BASE\",\n",
    "        \"knowledgeBaseConfiguration\": {\n",
    "            'knowledgeBaseId': kb_id,\n",
    "            \"modelArn\": \"arn:aws:bedrock:{}::foundation-model/{}\".format(region, model_id),\n",
    "            \"retrievalConfiguration\": {\n",
    "                \"vectorSearchConfiguration\": {\n",
    "                    \"numberOfResults\":5\n",
    "                } \n",
    "            },\n",
    "            'orchestrationConfiguration': {\n",
    "                'queryTransformationConfiguration': {\n",
    "                    'type': 'QUERY_DECOMPOSITION'\n",
    "                }\n",
    "            }\n",
    "        }\n",
    "    }\n",
    ")\n",
    "\n",
    "\n",
    "# generated text output\n",
    "\n",
    "print(response_ret['output']['text'],end='\\n'*2)"
   ]
  },
  {
   "cell_type": "code",
   "execution_count": null,
   "id": "4d6c3fe3-db9d-42cc-94ca-70a7a634ac8b",
   "metadata": {},
   "outputs": [],
   "source": []
  }
 ],
 "metadata": {
  "kernelspec": {
   "display_name": "Python 3 (ipykernel)",
   "language": "python",
   "name": "python3"
  },
  "language_info": {
   "codemirror_mode": {
    "name": "ipython",
    "version": 3
   },
   "file_extension": ".py",
   "mimetype": "text/x-python",
   "name": "python",
   "nbconvert_exporter": "python",
   "pygments_lexer": "ipython3",
   "version": "3.8.19"
  }
 },
 "nbformat": 4,
 "nbformat_minor": 5
}
