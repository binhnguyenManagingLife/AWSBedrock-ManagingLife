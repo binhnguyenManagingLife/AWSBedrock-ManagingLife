{
 "cells": [
  {
   "cell_type": "markdown",
   "id": "22c5b4db-345f-40e6-b1c5-3c24160adf8c",
   "metadata": {},
   "source": [
    "# Import"
   ]
  },
  {
   "cell_type": "code",
   "execution_count": 13,
   "id": "c0be3d4d-ca42-4dbd-ba01-5b097f03175f",
   "metadata": {},
   "outputs": [
    {
     "name": "stdout",
     "output_type": "stream",
     "text": [
      "Running boto3 version: 1.35.32\n"
     ]
    }
   ],
   "source": [
    "import boto3\n",
    "import sys\n",
    "import json\n",
    "print('Running boto3 version:', boto3.__version__)"
   ]
  },
  {
   "cell_type": "markdown",
   "id": "edff1c5f-0b0a-4026-bc0f-962f2082400e",
   "metadata": {},
   "source": [
    "# Testing connection"
   ]
  },
  {
   "cell_type": "code",
   "execution_count": 2,
   "id": "a1249b99-9df0-410d-b99d-fcb88e61111b",
   "metadata": {},
   "outputs": [
    {
     "name": "stdout",
     "output_type": "stream",
     "text": [
      "Connected successfully! Buckets:\n",
      "  dev-managinglife-aws-bedrock\n",
      "  dev-managinglife-db-bkp\n",
      "  logs-bucket-managinglife\n",
      "  managemypain-archives\n",
      "  managinglife-business-data\n",
      "  managinglife-business-data-humana\n",
      "  managinglife-config-s3\n",
      "  managinglife-documents\n",
      "  managinglife-drupal-db-prod\n",
      "  managinglife-es-bkp\n",
      "  managinglife-guardduty-s3\n",
      "  managinglife-images\n",
      "  managinglife-solr-bkp\n",
      "  managinglife-userdata-ca\n",
      "  managinglife-userdata-ca-dev\n",
      "  managinglife-userdata-ca-preprod\n",
      "  managinglifebucket1\n",
      "  s3-logs-bucket-managinglife\n",
      "  shared-managinglife-developer-s3\n",
      "  terraform-managinglife\n"
     ]
    }
   ],
   "source": [
    "import boto3\n",
    "from botocore.exceptions import NoCredentialsError, PartialCredentialsError\n",
    "\n",
    "def test_aws_connection():\n",
    "    try:\n",
    "        # Create an S3 client (or use another AWS service)\n",
    "        s3 = boto3.client('s3')\n",
    "        \n",
    "        # Attempt to list S3 buckets\n",
    "        response = s3.list_buckets()\n",
    "        \n",
    "        # Print out bucket names to confirm connection\n",
    "        print(\"Connected successfully! Buckets:\")\n",
    "        for bucket in response['Buckets']:\n",
    "            print(f\"  {bucket['Name']}\")\n",
    "    except NoCredentialsError:\n",
    "        print(\"AWS credentials not found.\")\n",
    "    except PartialCredentialsError:\n",
    "        print(\"Incomplete AWS credentials found.\")\n",
    "    except Exception as e:\n",
    "        print(f\"Error: {str(e)}\")\n",
    "\n",
    "test_aws_connection()\n"
   ]
  },
  {
   "cell_type": "markdown",
   "id": "039353ff-250e-4033-bf3d-c9e11e5632fa",
   "metadata": {},
   "source": [
    "# Converse API"
   ]
  },
  {
   "cell_type": "code",
   "execution_count": 5,
   "id": "da18bc87-3b63-4f66-a703-0b6661539326",
   "metadata": {},
   "outputs": [],
   "source": [
    "region = 'ca-central-1'\n",
    "\n",
    "bedrock = boto3.client(\n",
    "    service_name = 'bedrock-runtime',\n",
    "    region_name = region,\n",
    "    )\n",
    "\n",
    "MODEL_IDS = [\n",
    "    \"anthropic.claude-3-sonnet-20240229-v1:0\",\n",
    "    ]"
   ]
  },
  {
   "cell_type": "code",
   "execution_count": 6,
   "id": "5f4ec9fb-d597-4598-994e-8db82832dba5",
   "metadata": {},
   "outputs": [],
   "source": [
    "def invoke_bedrock_model(client, id, prompt, max_tokens=2000, temperature=0, top_p=0.9):\n",
    "    response = \"\"\n",
    "    try:\n",
    "        response = client.converse(\n",
    "            modelId=id,\n",
    "            messages=[\n",
    "                {\n",
    "                    \"role\": \"user\",\n",
    "                    \"content\": [\n",
    "                        {\n",
    "                            \"text\": prompt\n",
    "                        }\n",
    "                    ]\n",
    "                }\n",
    "            ],\n",
    "            inferenceConfig={\n",
    "                \"temperature\": temperature,\n",
    "                \"maxTokens\": max_tokens,\n",
    "                \"topP\": top_p\n",
    "            }\n",
    "            #additionalModelRequestFields={\n",
    "            #}\n",
    "        )\n",
    "    except Exception as e:\n",
    "        print(e)\n",
    "        result = \"Model invocation error\"\n",
    "    try:\n",
    "        result = response['output']['message']['content'][0]['text'] \\\n",
    "        + '\\n--- Latency: ' + str(response['metrics']['latencyMs']) \\\n",
    "        + 'ms - Input tokens:' + str(response['usage']['inputTokens']) \\\n",
    "        + ' - Output tokens:' + str(response['usage']['outputTokens']) + ' ---\\n'\n",
    "        return result\n",
    "    except Exception as e:\n",
    "        print(e)\n",
    "        result = \"Output parsing error\"\n",
    "    return result"
   ]
  },
  {
   "cell_type": "code",
   "execution_count": 7,
   "id": "ab4ce88b-564a-48d6-8bb5-8a0185f8a531",
   "metadata": {},
   "outputs": [
    {
     "name": "stdout",
     "output_type": "stream",
     "text": [
      "Prompt: What is the capital of Italy?\n",
      "\n",
      "Model: anthropic.claude-3-sonnet-20240229-v1:0\n",
      "The capital of Italy is Rome.\n",
      "--- Latency: 325ms - Input tokens:14 - Output tokens:10 ---\n",
      "\n"
     ]
    }
   ],
   "source": [
    "prompt = (\"What is the capital of Italy?\")\n",
    "print(f'Prompt: {prompt}\\n')\n",
    "\n",
    "for i in MODEL_IDS:\n",
    "    response = invoke_bedrock_model(bedrock, i, prompt)\n",
    "    print(f'Model: {i}\\n{response}')"
   ]
  },
  {
   "cell_type": "markdown",
   "id": "18b45658-a0e7-49f0-bf34-3fe3e5cd2240",
   "metadata": {},
   "source": [
    "# Test completion API"
   ]
  },
  {
   "cell_type": "code",
   "execution_count": 10,
   "id": "08ff9762-1b53-4a43-91cf-c3f874faaa83",
   "metadata": {},
   "outputs": [],
   "source": [
    "def generate_message(bedrock_runtime, model_id, messages, max_tokens=512,top_p=1,temp=0.5,system=''):\n",
    "\n",
    "    body=json.dumps(\n",
    "        {\n",
    "            \"anthropic_version\": \"bedrock-2023-05-31\",\n",
    "            \"max_tokens\": max_tokens,\n",
    "            \"messages\": messages,\n",
    "            \"temperature\": temp,\n",
    "            \"top_p\": top_p,\n",
    "            \"system\": system\n",
    "        }  \n",
    "    )  \n",
    "    \n",
    "    response = bedrock_runtime.invoke_model(body=body, modelId=model_id)\n",
    "    response_body = json.loads(response.get('body').read())\n",
    "\n",
    "    return response_body"
   ]
  },
  {
   "cell_type": "code",
   "execution_count": 11,
   "id": "52e2b2ca-9ac9-43fe-badb-7cd05db693e8",
   "metadata": {},
   "outputs": [],
   "source": [
    "bedrock_client = boto3.client('bedrock-runtime',region_name='ca-central-1')"
   ]
  },
  {
   "cell_type": "code",
   "execution_count": 14,
   "id": "3b9caba1-6331-4638-bf11-fdf897e3617b",
   "metadata": {},
   "outputs": [
    {
     "data": {
      "text/plain": [
       "{'id': 'msg_bdrk_01GruxojppjRg8UArw1pDQ2f',\n",
       " 'type': 'message',\n",
       " 'role': 'assistant',\n",
       " 'model': 'claude-3-sonnet-20240229',\n",
       " 'content': [{'type': 'text',\n",
       "   'text': 'Sure, the concept of discrete or quantized energies is a key principle of quantum mechanics. It states that the energy of particles, atoms, and molecules cannot take on any arbitrary value, but is instead restricted to specific discrete values or quanta.\\n\\nSome key points about discrete energies:\\n\\n- Classical physics assumed energy could vary continuously. Quantum mechanics showed that energy is quantized into discrete units called quanta.\\n\\n- The allowed energy levels depend on the specific system (atom, molecule, particle, etc.). Each system has its own set of permissible discrete energy levels.\\n\\n- Particles/atoms/molecules can only exist in these specific energy states - they cannot have energies between the allowed levels.\\n\\n- When a system absorbs or emits energy, it must do so in discrete quantized amounts equal to the difference between allowed energy levels.\\n\\n- This quantization of energy helps explain phenomena like the discrete spectral lines observed when atoms absorb or emit photons of specific energies.\\n\\n- The smallest quantized unit or quantum of energy is known as the Planck constant (h). Energy transfers happen in integer multiples of h.\\n\\nSo in essence, quantum mechanics rejects the idea of continuous energy values and shows that at the atomic/subatomic scale, energy is quantized into discrete packets or quanta. This discreteness leads to many quantum effects.'}],\n",
       " 'stop_reason': 'end_turn',\n",
       " 'stop_sequence': None,\n",
       " 'usage': {'input_tokens': 49, 'output_tokens': 287}}"
      ]
     },
     "execution_count": 14,
     "metadata": {},
     "output_type": "execute_result"
    }
   ],
   "source": [
    "messages=[{ \"role\":'user', \"content\":[{'type':'text','text': \"What is quantum mechanics? \"}]},\\\n",
    "         { \"role\":'assistant', \"content\":[{'type':'text','text': \"It is a branch of physics that \\\n",
    "         describes how matter and energy interact with discrete energy values \"}]},\\\n",
    "         { \"role\":'user', \"content\":[{'type':'text','text': \"Can you explain a bit more about discrete energies?\"}]}]\n",
    "\n",
    "generate_message(bedrock_client, model_id = 'anthropic.claude-3-sonnet-20240229-v1:0',messages=messages,max_tokens=512,temp=0.5,top_p=0.9)"
   ]
  },
  {
   "cell_type": "markdown",
   "id": "4f4debc4-6c9e-47fc-b1b9-894b4523b129",
   "metadata": {},
   "source": [
    "## Messages with System (Personas)"
   ]
  },
  {
   "cell_type": "code",
   "execution_count": 16,
   "id": "1b635537-373e-49b8-bf0a-041d694e268b",
   "metadata": {},
   "outputs": [
    {
     "data": {
      "text/plain": [
       "{'id': 'msg_bdrk_01H5FgrMhA6Q2oFcfBjcoYD4',\n",
       " 'type': 'message',\n",
       " 'role': 'assistant',\n",
       " 'model': 'claude-3-sonnet-20240229',\n",
       " 'content': [{'type': 'text',\n",
       "   'text': \"Here's how I would explain quantum mechanics in a way a caveman could understand:\\n\\nQuantum mechanics strange rules that tiny things follow. Things so small, like little rocks that make up everything. These tiny rocks act very weird, not like normal big rocks we see.\\n\\nNormal rocks follow simple rules we understand. If you throw rock, it goes where you throw it. But tiny quantum rocks don't follow those rules. They can be in many places at once, like magic! Or they can tunnel through barriers they shouldn't be able to.\\n\\nQuantum rocks also get connected in spooky ways. If you have two quantum rocks and you make them touch, they get linked. Even if you separate them very far apart, what happens to one instantly affects the other, like voodoo magic!\\n\\nThe rules of quantum mechanics are very bizarre and unlike anything we experience in our normal big world. But scientists have proven again and again that's just how the tiniest pieces of everything work. Quantum mechanics the strange magic dances of the smallest rocks in existence.\"}],\n",
       " 'stop_reason': 'end_turn',\n",
       " 'stop_sequence': None,\n",
       " 'usage': {'input_tokens': 24, 'output_tokens': 221}}"
      ]
     },
     "execution_count": 16,
     "metadata": {},
     "output_type": "execute_result"
    }
   ],
   "source": [
    "messages = [{ \"role\":'user', \"content\":[{'type':'text','text': \"What is quantum mechanics?\"}]}]\n",
    "\n",
    "system = \"Respond in a way a caveman would understand\"\n",
    "generate_message(bedrock_client, model_id = \"anthropic.claude-3-sonnet-20240229-v1:0\",messages=messages,max_tokens=512,temp=0.5,top_p=0.9,system=system)"
   ]
  },
  {
   "cell_type": "code",
   "execution_count": null,
   "id": "a6ea711d-478e-4356-b8ab-1a7b094f1d70",
   "metadata": {},
   "outputs": [],
   "source": []
  },
  {
   "cell_type": "code",
   "execution_count": null,
   "id": "fe7be0d6-9974-464c-8753-5d23213ad57b",
   "metadata": {},
   "outputs": [],
   "source": []
  }
 ],
 "metadata": {
  "kernelspec": {
   "display_name": "Python 3 (ipykernel)",
   "language": "python",
   "name": "python3"
  },
  "language_info": {
   "codemirror_mode": {
    "name": "ipython",
    "version": 3
   },
   "file_extension": ".py",
   "mimetype": "text/x-python",
   "name": "python",
   "nbconvert_exporter": "python",
   "pygments_lexer": "ipython3",
   "version": "3.8.19"
  }
 },
 "nbformat": 4,
 "nbformat_minor": 5
}
