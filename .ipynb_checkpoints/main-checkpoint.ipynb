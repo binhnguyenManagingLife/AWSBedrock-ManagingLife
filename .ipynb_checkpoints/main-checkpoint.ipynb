{
 "cells": [
  {
   "cell_type": "markdown",
   "id": "22c5b4db-345f-40e6-b1c5-3c24160adf8c",
   "metadata": {},
   "source": [
    "# Import"
   ]
  },
  {
   "cell_type": "code",
   "execution_count": 1,
   "id": "c0be3d4d-ca42-4dbd-ba01-5b097f03175f",
   "metadata": {},
   "outputs": [
    {
     "name": "stdout",
     "output_type": "stream",
     "text": [
      "Running boto3 version: 1.35.34\n"
     ]
    }
   ],
   "source": [
    "import boto3\n",
    "import sys\n",
    "import json\n",
    "import pprint\n",
    "from botocore.client import Config\n",
    "from botocore.exceptions import NoCredentialsError, PartialCredentialsError, ClientError\n",
    "import os\n",
    "import random\n",
    "from retrying import retry\n",
    "import time\n",
    "from utility import *\n",
    "\n",
    "print('Running boto3 version:', boto3.__version__)"
   ]
  },
  {
   "cell_type": "markdown",
   "id": "edff1c5f-0b0a-4026-bc0f-962f2082400e",
   "metadata": {},
   "source": [
    "# Testing connection"
   ]
  },
  {
   "cell_type": "code",
   "execution_count": 2,
   "id": "a1249b99-9df0-410d-b99d-fcb88e61111b",
   "metadata": {},
   "outputs": [
    {
     "name": "stdout",
     "output_type": "stream",
     "text": [
      "Connected successfully! Buckets:\n",
      "  dev-managinglife-aws-bedrock\n",
      "  dev-managinglife-db-bkp\n",
      "  logs-bucket-managinglife\n",
      "  managemypain-archives\n",
      "  managinglife-business-data\n",
      "  managinglife-business-data-humana\n",
      "  managinglife-config-s3\n",
      "  managinglife-documents\n",
      "  managinglife-drupal-db-prod\n",
      "  managinglife-es-bkp\n",
      "  managinglife-guardduty-s3\n",
      "  managinglife-images\n",
      "  managinglife-solr-bkp\n",
      "  managinglife-userdata-ca\n",
      "  managinglife-userdata-ca-dev\n",
      "  managinglife-userdata-ca-preprod\n",
      "  managinglifebucket1\n",
      "  s3-logs-bucket-managinglife\n",
      "  shared-managinglife-developer-s3\n",
      "  terraform-managinglife\n"
     ]
    }
   ],
   "source": [
    "test_aws_connection()"
   ]
  },
  {
   "cell_type": "markdown",
   "id": "039353ff-250e-4033-bf3d-c9e11e5632fa",
   "metadata": {},
   "source": [
    "# Converse API"
   ]
  },
  {
   "cell_type": "code",
   "execution_count": 3,
   "id": "da18bc87-3b63-4f66-a703-0b6661539326",
   "metadata": {},
   "outputs": [],
   "source": [
    "region = 'ca-central-1'\n",
    "\n",
    "bedrock = boto3.client(\n",
    "    service_name = 'bedrock-runtime',\n",
    "    region_name = region,\n",
    "    )\n",
    "\n",
    "MODEL_IDS = [\n",
    "    \"anthropic.claude-3-sonnet-20240229-v1:0\",\n",
    "    ]"
   ]
  },
  {
   "cell_type": "code",
   "execution_count": 4,
   "id": "ab4ce88b-564a-48d6-8bb5-8a0185f8a531",
   "metadata": {},
   "outputs": [
    {
     "name": "stdout",
     "output_type": "stream",
     "text": [
      "Prompt: What is the capital of Italy?\n",
      "\n",
      "Model: anthropic.claude-3-sonnet-20240229-v1:0\n",
      "The capital of Italy is Rome.\n",
      "--- Latency: 311ms - Input tokens:14 - Output tokens:10 ---\n",
      "\n"
     ]
    }
   ],
   "source": [
    "prompt = (\"What is the capital of Italy?\")\n",
    "print(f'Prompt: {prompt}\\n')\n",
    "\n",
    "for i in MODEL_IDS:\n",
    "    response = invoke_bedrock_model(bedrock, i, prompt)\n",
    "    print(f'Model: {i}\\n{response}')"
   ]
  },
  {
   "cell_type": "markdown",
   "id": "18b45658-a0e7-49f0-bf34-3fe3e5cd2240",
   "metadata": {},
   "source": [
    "# Multiple lines Converse API"
   ]
  },
  {
   "cell_type": "code",
   "execution_count": 5,
   "id": "52e2b2ca-9ac9-43fe-badb-7cd05db693e8",
   "metadata": {},
   "outputs": [],
   "source": [
    "bedrock_client = boto3.client('bedrock-runtime',region_name='ca-central-1')"
   ]
  },
  {
   "cell_type": "code",
   "execution_count": 6,
   "id": "3b9caba1-6331-4638-bf11-fdf897e3617b",
   "metadata": {},
   "outputs": [
    {
     "data": {
      "text/plain": [
       "{'id': 'msg_bdrk_01QGJCGVZzrkMsK41fBJiQBG',\n",
       " 'type': 'message',\n",
       " 'role': 'assistant',\n",
       " 'model': 'claude-3-sonnet-20240229',\n",
       " 'content': [{'type': 'text',\n",
       "   'text': 'Sure, the concept of discrete or quantized energies is a key principle of quantum mechanics. It states that the energy of particles or systems can only take on certain specific values, rather than varying continuously.\\n\\nSome key points about discrete energies:\\n\\n- Particles like electrons can only exist in specific, discrete energy levels around the nucleus rather than any arbitrary energy level.\\n\\n- When an electron transitions between allowed energy levels, it absorbs or emits a quantum of energy with very specific values, rather than any arbitrary amount.\\n\\n- The allowed energy levels depend on the specific system, like an atom or molecule. Each has a unique set of permissible discrete energy values.\\n\\n- The quantization of energy is one of the reasons why quantum mechanics departs from classical physics, which views energy as continuous.\\n\\n- It arises from the wave-particle duality of matter and the quantized nature of things like electromagnetic radiation.\\n\\n- Discrete energies help explain phenomena like the emission spectra of atoms and the stability of atoms and molecules.\\n\\nSo in essence, quantum mechanics reveals that energy, instead of being continuous, comes in discrete packets or quanta at the atomic and subatomic scales. This quantization leads to many of the novel quantum effects.'}],\n",
       " 'stop_reason': 'end_turn',\n",
       " 'stop_sequence': None,\n",
       " 'usage': {'input_tokens': 49, 'output_tokens': 261}}"
      ]
     },
     "execution_count": 6,
     "metadata": {},
     "output_type": "execute_result"
    }
   ],
   "source": [
    "messages=[{ \"role\":'user', \"content\":[{'type':'text','text': \"What is quantum mechanics? \"}]},\\\n",
    "         { \"role\":'assistant', \"content\":[{'type':'text','text': \"It is a branch of physics that \\\n",
    "         describes how matter and energy interact with discrete energy values \"}]},\\\n",
    "         { \"role\":'user', \"content\":[{'type':'text','text': \"Can you explain a bit more about discrete energies?\"}]}]\n",
    "\n",
    "generate_message(bedrock_client, model_id = 'anthropic.claude-3-sonnet-20240229-v1:0',messages=messages,max_tokens=512,temp=0.5,top_p=0.9)"
   ]
  },
  {
   "cell_type": "markdown",
   "id": "4f4debc4-6c9e-47fc-b1b9-894b4523b129",
   "metadata": {},
   "source": [
    "## Messages with System (Personas)"
   ]
  },
  {
   "cell_type": "code",
   "execution_count": 7,
   "id": "1b635537-373e-49b8-bf0a-041d694e268b",
   "metadata": {},
   "outputs": [
    {
     "data": {
      "text/plain": [
       "{'id': 'msg_bdrk_01HB1JgQEJDQCdetqpfCi8Sy',\n",
       " 'type': 'message',\n",
       " 'role': 'assistant',\n",
       " 'model': 'claude-3-sonnet-20240229',\n",
       " 'content': [{'type': 'text',\n",
       "   'text': 'Here\\'s how I would explain quantum mechanics in caveman terms:\\n\\nQuantum make tiny things act weird. Rock seem solid, but tiny bits inside rock, they move and bounce all over place like crazy! Sometimes tiny bits act like particle, little ball. Sometimes act like wave, like ripples on water. Crazy, right?\\n\\nEven crazier, tiny bits exist in many places at once until caveman look at them. When caveman look, tiny bit \"decide\" where it is. Spooky action at distance too - two tiny bits far apart, do same dance like connected by invisible force. \\n\\nQuantum make no sense to caveman brain used to regular big things. But quantum real, and let smart cavemen make fire-starters, heat rocks, all kinds of new cave magic. Quantum mechanics hard to grunt, but very powerful knowledge.'}],\n",
       " 'stop_reason': 'end_turn',\n",
       " 'stop_sequence': None,\n",
       " 'usage': {'input_tokens': 22, 'output_tokens': 184}}"
      ]
     },
     "execution_count": 7,
     "metadata": {},
     "output_type": "execute_result"
    }
   ],
   "source": [
    "messages = [{ \"role\":'user', \"content\":[{'type':'text','text': \"What is quantum mechanics?\"}]}]\n",
    "\n",
    "system = \"Respond in a way a caveman would understand\"\n",
    "generate_message(bedrock_client, model_id = \"anthropic.claude-3-sonnet-20240229-v1:0\",messages=messages,max_tokens=512,temp=0.5,top_p=0.9,system=system)"
   ]
  },
  {
   "cell_type": "markdown",
   "id": "11018dba-6354-493f-9fb2-2e036f997eb3",
   "metadata": {},
   "source": [
    "# Knowledge base"
   ]
  },
  {
   "cell_type": "code",
   "execution_count": 8,
   "id": "fe7be0d6-9974-464c-8753-5d23213ad57b",
   "metadata": {},
   "outputs": [],
   "source": [
    "\n",
    "pp = pprint.PrettyPrinter(indent=2)\n",
    "session = boto3.session.Session()\n",
    "region = session.region_name or 'ca-central-1' \n",
    "bedrock_config = Config(connect_timeout=120, read_timeout=120, retries={'max_attempts': 0})\n",
    "\n",
    "bedrock_agent_client = boto3.client(\"bedrock-agent-runtime\",\n",
    "                              region_name='ca-central-1',\n",
    "                              config=bedrock_config,\n",
    "                                    )\n",
    "model_id = \"anthropic.claude-3-sonnet-20240229-v1:0\""
   ]
  },
  {
   "cell_type": "code",
   "execution_count": 10,
   "id": "6886d058-b91b-4a88-8c88-5b5114712fe8",
   "metadata": {},
   "outputs": [
    {
     "ename": "NameError",
     "evalue": "name 'document_s3_uri' is not defined",
     "output_type": "error",
     "traceback": [
      "\u001b[0;31m---------------------------------------------------------------------------\u001b[0m",
      "\u001b[0;31mNameError\u001b[0m                                 Traceback (most recent call last)",
      "Cell \u001b[0;32mIn[10], line 3\u001b[0m\n\u001b[1;32m      1\u001b[0m document_s3_uri \u001b[38;5;241m=\u001b[39m \u001b[38;5;124m\"\u001b[39m\u001b[38;5;124ms3://dev-managinglife-aws-bedrock/1. User Guide/Common Questions.md\u001b[39m\u001b[38;5;124m\"\u001b[39m\n\u001b[1;32m      2\u001b[0m query \u001b[38;5;241m=\u001b[39m \u001b[38;5;124m\"\u001b[39m\u001b[38;5;124mSummarize the document\u001b[39m\u001b[38;5;124m\"\u001b[39m\n\u001b[0;32m----> 3\u001b[0m response \u001b[38;5;241m=\u001b[39m \u001b[43mretrieveAndGenerate\u001b[49m\u001b[43m(\u001b[49m\u001b[38;5;28;43minput\u001b[39;49m\u001b[38;5;241;43m=\u001b[39;49m\u001b[43mquery\u001b[49m\u001b[43m)\u001b[49m\n\u001b[1;32m      4\u001b[0m generated_text \u001b[38;5;241m=\u001b[39m response[\u001b[38;5;124m'\u001b[39m\u001b[38;5;124moutput\u001b[39m\u001b[38;5;124m'\u001b[39m][\u001b[38;5;124m'\u001b[39m\u001b[38;5;124mtext\u001b[39m\u001b[38;5;124m'\u001b[39m]\n\u001b[1;32m      5\u001b[0m pp\u001b[38;5;241m.\u001b[39mpprint(generated_text)\n",
      "File \u001b[0;32m~/Desktop/Managing Life/Code/AWSBedrock-ManagingLife/utility.py:25\u001b[0m, in \u001b[0;36mretrieveAndGenerate\u001b[0;34m(input, region, sourceType, model_id)\u001b[0m\n\u001b[1;32m     23\u001b[0m \u001b[38;5;28;01mdef\u001b[39;00m \u001b[38;5;21mretrieveAndGenerate\u001b[39m(\u001b[38;5;28minput\u001b[39m, region \u001b[38;5;241m=\u001b[39m \u001b[38;5;124m'\u001b[39m\u001b[38;5;124mca-central-1\u001b[39m\u001b[38;5;124m'\u001b[39m, sourceType\u001b[38;5;241m=\u001b[39m \u001b[38;5;124m\"\u001b[39m\u001b[38;5;124mS3\u001b[39m\u001b[38;5;124m\"\u001b[39m, model_id \u001b[38;5;241m=\u001b[39m \u001b[38;5;124m\"\u001b[39m\u001b[38;5;124manthropic.claude-3-sonnet-20240229-v1:0\u001b[39m\u001b[38;5;124m\"\u001b[39m):\n\u001b[1;32m     24\u001b[0m     model_arn \u001b[38;5;241m=\u001b[39m \u001b[38;5;124mf\u001b[39m\u001b[38;5;124m'\u001b[39m\u001b[38;5;124marn:aws:bedrock:\u001b[39m\u001b[38;5;132;01m{\u001b[39;00mregion\u001b[38;5;132;01m}\u001b[39;00m\u001b[38;5;124m::foundation-model/\u001b[39m\u001b[38;5;132;01m{\u001b[39;00mmodel_id\u001b[38;5;132;01m}\u001b[39;00m\u001b[38;5;124m'\u001b[39m\n\u001b[0;32m---> 25\u001b[0m     \u001b[38;5;28mprint\u001b[39m (\u001b[43mdocument_s3_uri\u001b[49m)\n\u001b[1;32m     26\u001b[0m     \u001b[38;5;28;01mreturn\u001b[39;00m bedrock_agent_client\u001b[38;5;241m.\u001b[39mretrieve_and_generate(\n\u001b[1;32m     27\u001b[0m         \u001b[38;5;28minput\u001b[39m\u001b[38;5;241m=\u001b[39m{\n\u001b[1;32m     28\u001b[0m             \u001b[38;5;124m'\u001b[39m\u001b[38;5;124mtext\u001b[39m\u001b[38;5;124m'\u001b[39m: \u001b[38;5;28minput\u001b[39m\n\u001b[0;32m   (...)\u001b[0m\n\u001b[1;32m     43\u001b[0m         }\n\u001b[1;32m     44\u001b[0m     )\n",
      "\u001b[0;31mNameError\u001b[0m: name 'document_s3_uri' is not defined"
     ]
    }
   ],
   "source": [
    "document_s3_uri = \"s3://dev-managinglife-aws-bedrock/1. User Guide/Common Questions.md\"\n",
    "query = \"Summarize the document\"\n",
    "response = retrieveAndGenerate(query, document_s3_uri, region)\n",
    "generated_text = response['output']['text']\n",
    "pp.pprint(generated_text)"
   ]
  },
  {
   "cell_type": "code",
   "execution_count": null,
   "id": "bf66fe9c-51dc-4d2d-9dd2-f32b9c0cc4e8",
   "metadata": {
    "scrolled": true
   },
   "outputs": [],
   "source": [
    "citations = response[\"citations\"]\n",
    "contexts = []\n",
    "for citation in citations:\n",
    "    retrievedReferences = citation[\"retrievedReferences\"]\n",
    "    for reference in retrievedReferences:\n",
    "         contexts.append(reference[\"content\"][\"text\"])\n",
    "\n",
    "pp.pprint(contexts)"
   ]
  },
  {
   "cell_type": "markdown",
   "id": "c895854b-dbb9-48c2-8e58-fc2a4f7f71b2",
   "metadata": {},
   "source": [
    "# Knowledge base template\n",
    "This notebook provides sample code for building an empty OpenSearch Serverless (OSS) index,Knowledge bases for Amazon Bedrock and ingest documents into the index from various data sources (S3, Confluence, Sharepoint, Salesforce, and Web). \n",
    "\n",
    "A data pipeline that ingests documents (typically stored in multiple data sources) into a knowledge base i.e. a vector database such as Amazon OpenSearch Service Serverless (AOSS) so that it is available for lookup when a question is received.\n",
    "\n",
    "- Create an empty OpenSearch serverless index.\n",
    "- Create knowledge base\n",
    "- Create data source(s) within knowledge base\n",
    "- For each data source, start ingestion jobs using KB APIs which will read data from the data source, chunk it, convert chunks into embeddings using Amazon Titan Embeddings model and then store these embeddings in AOSS. All of this without having to build, deploy and manage the data pipeline."
   ]
  },
  {
   "cell_type": "code",
   "execution_count": null,
   "id": "46c095b9-ffdf-48a7-a877-5d64de837f4b",
   "metadata": {},
   "outputs": [],
   "source": [
    "suffix = random.randrange(200, 900)\n",
    "\n",
    "sts_client = boto3.client('sts')\n",
    "boto3_session = boto3.session.Session()\n",
    "region_name = boto3_session.region_name or 'ca-central-1'\n",
    "\n",
    "bedrock_agent_client = boto3.client('bedrock-agent', region_name=region_name)\n",
    "bedrock_agent_runtime_client = boto3.client('bedrock-agent-runtime', region_name=region_name)\n",
    "\n",
    "service = 'aoss'\n",
    "s3_client = boto3.client('s3')\n",
    "account_id = sts_client.get_caller_identity()[\"Account\"]\n",
    "s3_suffix = f\"{region_name}-{account_id}\""
   ]
  },
  {
   "cell_type": "code",
   "execution_count": null,
   "id": "3c9de302-a223-459c-8179-a785b9fcf9f6",
   "metadata": {},
   "outputs": [],
   "source": [
    "bucket_name = 'dev-managinglife-aws-bedrock'\n",
    "\n",
    "## Below is a list of data sources including, 1 S3 buckets, 1 confluence, 1 Sharepoint, 1 Salesforce connectors\n",
    "\n",
    "data_sources=[\n",
    "                {\"type\": \"S3\", \"bucket_name\": bucket_name}, \n",
    "                \n",
    "                # {\"type\": \"CONFLUENCE\", \"hostUrl\": \"https://example.atlassian.net\", \"authType\": \"BASIC\",\n",
    "                #  \"credentialsSecretArn\": f\"arn:aws::secretsmanager:{region_name}:secret:<<your_secret_name>>\"},\n",
    "\n",
    "                # {\"type\": \"SHAREPOINT\", \"tenantId\": \"888d0b57-69f1-4fb8-957f-e1f0bedf64de\", \"domain\": \"yourdomain\",\n",
    "                #   \"authType\": \"OAUTH2_CLIENT_CREDENTIALS\",\n",
    "                #  \"credentialsSecretArn\": f\"arn:aws::secretsmanager:{region_name}:secret:<<your_secret_name>>\",\n",
    "                #  \"siteUrls\": [\"https://yourdomain.sharepoint.com/sites/mysite\"]\n",
    "                # },\n",
    "\n",
    "                # {\"type\": \"SALESFORCE\", \"hostUrl\": \"https://company.salesforce.com/\", \"authType\": \"OAUTH2_CLIENT_CREDENTIALS\",\n",
    "                #  \"credentialsSecretArn\": f\"arn:aws::secretsmanager:{region_name}:secret:<<your_secret_name>>\"\n",
    "                # },\n",
    "\n",
    "                # {\"type\": \"WEB\", \"seedUrls\": [{ \"url\": \"https://www.examplesite.com\"}],\n",
    "                #  \"inclusionFilters\": [\"https://www\\.examplesite\\.com/.*\\.html\"],\n",
    "                #  \"exclusionFilters\": [\"https://www\\.examplesite\\.com/contact-us\\.html\"]\n",
    "                # }\n",
    "            ]\n",
    "                \n",
    "pp = pprint.PrettyPrinter(indent=2)"
   ]
  },
  {
   "cell_type": "code",
   "execution_count": null,
   "id": "9c2b8fb0-48e7-44fa-932e-130a6d073a73",
   "metadata": {},
   "outputs": [],
   "source": [
    "# For S3 data source, check if S3 bucket exists, and if not create S3 bucket for knowledge base data source\n",
    "\n",
    "for ds in [d for d in data_sources if d['type']== 'S3']:\n",
    "    bucket_name = ds['bucket_name']\n",
    "    s3_client.head_bucket(Bucket=bucket_name)\n",
    "    print(f'Bucket {bucket_name} Exists')\n",
    "   "
   ]
  },
  {
   "cell_type": "markdown",
   "id": "420ca59e-0c36-455a-91ee-0493acbb67a8",
   "metadata": {},
   "source": [
    "## Create a vector store - Open Search Serverless Index"
   ]
  },
  {
   "cell_type": "code",
   "execution_count": null,
   "id": "a0c68818-eed7-4f08-8667-01b00b4cc915",
   "metadata": {},
   "outputs": [],
   "source": [
    "vector_store_name = f'bedrock-sample-rag-{suffix}'\n",
    "index_name = f\"bedrock-sample-rag-index-{suffix}\"\n",
    "aoss_client = boto3_session.client('opensearchserverless', region_name = 'ca-central-1')\n",
    "\n",
    "# Personal ARN \n",
    "bedrock_kb_execution_role_arn = 'arn:aws:iam::442186832995:role/service-role/AmazonBedrockExecutionRoleForKnowledgeBase_nmhn9'"
   ]
  },
  {
   "cell_type": "code",
   "execution_count": null,
   "id": "05fc6275-83be-4483-848c-65532414a1fc",
   "metadata": {},
   "outputs": [],
   "source": [
    "# create security, network and data access policies within OSS\n",
    "encryption_policy, network_policy, access_policy = create_policies_in_oss(vector_store_name=vector_store_name,\n",
    "                       aoss_client=aoss_client,\n",
    "                       bedrock_kb_execution_role_arn=bedrock_kb_execution_role_arn)\n",
    "collection = aoss_client.create_collection(name=vector_store_name,type='VECTORSEARCH')"
   ]
  },
  {
   "cell_type": "code",
   "execution_count": null,
   "id": "249acdf2-cacf-4ce4-bf35-19935a9f9340",
   "metadata": {},
   "outputs": [],
   "source": [
    "pp.pprint(collection)"
   ]
  },
  {
   "cell_type": "code",
   "execution_count": null,
   "id": "6cd3dfb3-ed5a-47c8-9e76-9054581ad2e3",
   "metadata": {},
   "outputs": [],
   "source": [
    "# Get the OpenSearch serverless collection URL\n",
    "collection_id = collection['createCollectionDetail']['id']\n",
    "host = collection_id + '.' + region_name + '.aoss.amazonaws.com'\n",
    "print(host)"
   ]
  },
  {
   "cell_type": "code",
   "execution_count": null,
   "id": "94206b49-a16e-4945-af30-92f61c99c5ae",
   "metadata": {},
   "outputs": [],
   "source": []
  },
  {
   "cell_type": "code",
   "execution_count": null,
   "id": "88025ac4-ec79-4780-be37-2fa3c2b150de",
   "metadata": {},
   "outputs": [],
   "source": []
  },
  {
   "cell_type": "code",
   "execution_count": null,
   "id": "adcd291c-131a-4f8e-9b98-7428e98376b2",
   "metadata": {},
   "outputs": [],
   "source": []
  },
  {
   "cell_type": "code",
   "execution_count": null,
   "id": "94b9ab55-950b-4701-8ffd-dfddf120a14b",
   "metadata": {},
   "outputs": [],
   "source": []
  },
  {
   "cell_type": "code",
   "execution_count": null,
   "id": "f6ab587f-a16d-4c86-97bd-00f923416531",
   "metadata": {},
   "outputs": [],
   "source": []
  }
 ],
 "metadata": {
  "kernelspec": {
   "display_name": "Python 3 (ipykernel)",
   "language": "python",
   "name": "python3"
  },
  "language_info": {
   "codemirror_mode": {
    "name": "ipython",
    "version": 3
   },
   "file_extension": ".py",
   "mimetype": "text/x-python",
   "name": "python",
   "nbconvert_exporter": "python",
   "pygments_lexer": "ipython3",
   "version": "3.8.19"
  }
 },
 "nbformat": 4,
 "nbformat_minor": 5
}
