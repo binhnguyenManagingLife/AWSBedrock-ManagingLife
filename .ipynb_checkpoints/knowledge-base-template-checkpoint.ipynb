{
 "cells": [
  {
   "cell_type": "markdown",
   "id": "1987d2da-e008-4181-84b8-bddd46186f03",
   "metadata": {},
   "source": [
    "# Testing knowledge base"
   ]
  },
  {
   "cell_type": "code",
   "execution_count": 1,
   "id": "182cac37-1ac9-4eaa-a561-a0dce0319812",
   "metadata": {},
   "outputs": [
    {
     "name": "stdout",
     "output_type": "stream",
     "text": [
      "Running boto3 version: 1.35.34\n"
     ]
    }
   ],
   "source": [
    "import boto3\n",
    "import sys\n",
    "import json\n",
    "import pprint\n",
    "from botocore.client import Config\n",
    "from botocore.exceptions import NoCredentialsError, PartialCredentialsError, ClientError\n",
    "import os\n",
    "import random\n",
    "from retrying import retry\n",
    "import time\n",
    "from utility import *\n",
    "\n",
    "print('Running boto3 version:', boto3.__version__)"
   ]
  },
  {
   "cell_type": "code",
   "execution_count": 2,
   "id": "4302cd84-483f-475b-9f47-433a320c2a4e",
   "metadata": {},
   "outputs": [],
   "source": [
    "boto3_session = boto3.session.Session()\n",
    "region_name = boto3_session.region_name or 'ca-central-1'\n",
    "bedrock = boto3.client('bedrock-agent-runtime', region_name=region_name)\n",
    "\n",
    "# KNOWLEDGE BASE ID EXTRACTED FROM CONSOLE\n",
    "kb_id = 'KESDTCXEJE'"
   ]
  },
  {
   "cell_type": "markdown",
   "id": "bf3730a6-efec-4d9f-8339-f22952f60e75",
   "metadata": {},
   "source": [
    "# Quering the KB"
   ]
  },
  {
   "cell_type": "code",
   "execution_count": 7,
   "id": "e9bde5ed-01af-48b1-b6b0-fa2f02335caf",
   "metadata": {},
   "outputs": [
    {
     "name": "stdout",
     "output_type": "stream",
     "text": [
      "To change your email address in the Manage My Pain app:\n",
      "\n",
      "1. Open the app and go to the \"My Profile\" section.\n",
      "2. Expand the \"Account Information\" section and press the pencil icon next to the email address field.\n",
      "3. On the \"Change Email Address\" screen, enter your new email address and current password, then press \"CHANGE EMAIL ADDRESS\".\n",
      "4. Check your new email inbox for a confirmation email and click the link to confirm the email address change.\n",
      "5. After confirming, you can log in to the app using your new email address and password.\n",
      "\n"
     ]
    }
   ],
   "source": [
    "query = \"How do I change my email?\"\n",
    "\n",
    "foundation_model = \"anthropic.claude-3-sonnet-20240229-v1:0\"\n",
    "\n",
    "# system_prompt = '''\n",
    "# {\n",
    "#   \"persona\": {\n",
    "#     \"role\": \"support assistant\",\n",
    "#     \"goals\": \"Assist users with account-related issues, such as email changes, in a clear and concise manner.\",\n",
    "#     \"tone\": \"Professional, helpful, and polite\",\n",
    "#     \"restrictions\": [\n",
    "#         \"Avoid providing direct account information.\",\n",
    "#         \"Do not handle sensitive user data directly.\"\n",
    "#     ],\n",
    "#     \"knowledge_base\": [\n",
    "#         \"Support documentation, FAQ, and guidelines for account management.\"\n",
    "#     ]\n",
    "#   }\n",
    "# }\n",
    "# '''\n",
    "\n",
    "response = bedrock.retrieve_and_generate(\n",
    "    input={\n",
    "        \"text\": query,\n",
    "    },\n",
    "    retrieveAndGenerateConfiguration={\n",
    "        \"type\": \"KNOWLEDGE_BASE\",\n",
    "        \"knowledgeBaseConfiguration\": {\n",
    "            'knowledgeBaseId': kb_id,\n",
    "            \"modelArn\": \"arn:aws:bedrock:{}::foundation-model/{}\".format(region_name, foundation_model),\n",
    "            \"retrievalConfiguration\": {\n",
    "                \"vectorSearchConfiguration\": {\n",
    "                    \"numberOfResults\":5\n",
    "                } \n",
    "            }\n",
    "        }\n",
    "    }\n",
    ")\n",
    "\n",
    "print(response['output']['text'],end='\\n'*2)"
   ]
  },
  {
   "cell_type": "markdown",
   "id": "edf4b4e4-770d-4065-8273-f4ec54196c27",
   "metadata": {},
   "source": [
    "# Citations and references"
   ]
  },
  {
   "cell_type": "code",
   "execution_count": 4,
   "id": "6a3fddfe-b974-47ba-82b0-6f7000413f70",
   "metadata": {},
   "outputs": [
    {
     "name": "stdout",
     "output_type": "stream",
     "text": [
      "[ '# My Profile ## 1. Account Information ### a. Change Email Address 1. Go to '\n",
      "  'Account Information section Open the app and click the \"My Profile\" '\n",
      "  'button.  On the \"My Profile\" screen, expand the \"Account Information\" '\n",
      "  'section.  Press the \"pencil\" icon on the right-hand side of the email '\n",
      "  'address field.  You will be taken to \"Change Email Address\" screen. 2. '\n",
      "  'Request to change email address On the \"Change Email Address\" screen, enter '\n",
      "  'a new valid email address and your current password.  Press \"CHANGE EMAIL '\n",
      "  'ADDRESS\" to confirm the change. 3. Check email request After changed email '\n",
      "  'address, a message will pop-up at the bottom of the screen that says '\n",
      "  '\"Change email request is sent successfully, check your new email box\". 4. '\n",
      "  'Confirm change email request You will receive an email to update your email '\n",
      "  'address. Press \"Click here to confirm your email address update\". 5. Log in '\n",
      "  'to your account After you have confirmed your email address update, you can '\n",
      "  'log in using your new email address and password. ### b. Set Password 1. Go '\n",
      "  'to Account Information section Open the app and click the \"My Profile\" '\n",
      "  'button.  On the \"My Profile\" screen, expand the \"Account Information\" '\n",
      "  'section.   Press \"SET\" and wait for the following message at the bottom of '\n",
      "  'the screen: \"Password reset requested - check your email\".',\n",
      "  \"Get More Help ### How do I contact customer support? If you can't find what \"\n",
      "  'you need on our FAQ or User guide you can contact us at '\n",
      "  'contact@managinglife.com']\n"
     ]
    }
   ],
   "source": [
    "citations = response[\"citations\"]\n",
    "contexts = []\n",
    "for citation in citations:\n",
    "    retrievedReferences = citation[\"retrievedReferences\"]\n",
    "    for reference in retrievedReferences:\n",
    "         contexts.append(reference[\"content\"][\"text\"])\n",
    "        \n",
    "pp = pprint.PrettyPrinter(indent=2)\n",
    "pp.pprint(contexts)"
   ]
  },
  {
   "cell_type": "code",
   "execution_count": null,
   "id": "f7600706-7571-43fb-943e-1595eaef3980",
   "metadata": {},
   "outputs": [],
   "source": []
  }
 ],
 "metadata": {
  "kernelspec": {
   "display_name": "Python 3 (ipykernel)",
   "language": "python",
   "name": "python3"
  },
  "language_info": {
   "codemirror_mode": {
    "name": "ipython",
    "version": 3
   },
   "file_extension": ".py",
   "mimetype": "text/x-python",
   "name": "python",
   "nbconvert_exporter": "python",
   "pygments_lexer": "ipython3",
   "version": "3.8.19"
  }
 },
 "nbformat": 4,
 "nbformat_minor": 5
}
