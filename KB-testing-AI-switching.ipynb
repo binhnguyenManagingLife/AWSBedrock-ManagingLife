{
 "cells": [
  {
   "cell_type": "markdown",
   "id": "74d57f80-9d27-4dbc-8676-df032d19be5a",
   "metadata": {},
   "source": [
    "# Switching Assistant\n",
    "- Intent classification and Service Routing\n",
    "- The LLM analyzes this combination and classifies the input into one or combination of three main intents: AppAssistant, PainAssistant, or PersonalAssistant.\n",
    "- Creating through bedrock-agent for more confirugation and control"
   ]
  },
  {
   "cell_type": "code",
   "execution_count": 1,
   "id": "b7c2331d-b7d1-44e9-bd96-e19b7602de1a",
   "metadata": {},
   "outputs": [
    {
     "name": "stdout",
     "output_type": "stream",
     "text": [
      "Running boto3 version: 1.35.34\n"
     ]
    }
   ],
   "source": [
    "import boto3\n",
    "import sys\n",
    "import json\n",
    "import pprint\n",
    "from botocore.client import Config\n",
    "from botocore.exceptions import NoCredentialsError, PartialCredentialsError, ClientError\n",
    "import os\n",
    "import random\n",
    "from retrying import retry\n",
    "import time\n",
    "from utility import *\n",
    "print('Running boto3 version:', boto3.__version__)"
   ]
  },
  {
   "cell_type": "code",
   "execution_count": 2,
   "id": "401e9f01-aada-46eb-9667-f8323098a31c",
   "metadata": {},
   "outputs": [],
   "source": [
    "# Bedrock Agent runtime\n",
    "pp = pprint.PrettyPrinter(indent=2)\n",
    "session = boto3.session.Session()\n",
    "region = 'ca-central-1'\n",
    "bedrock_config = Config(connect_timeout=120, read_timeout=120, retries={'max_attempts': 0})\n",
    "bedrock_client = boto3.client('bedrock-runtime', region_name = region)\n",
    "bedrock_agent_client = boto3.client(\"bedrock-agent-runtime\", config=bedrock_config, region_name = region)\n",
    "\n",
    "# KB ID\n",
    "kb_id = 'V2W0LT3GZP'"
   ]
  },
  {
   "cell_type": "code",
   "execution_count": null,
   "id": "b9544e97-e1f6-482f-8614-ffd7cf401000",
   "metadata": {},
   "outputs": [],
   "source": []
  }
 ],
 "metadata": {
  "kernelspec": {
   "display_name": "Python 3 (ipykernel)",
   "language": "python",
   "name": "python3"
  },
  "language_info": {
   "codemirror_mode": {
    "name": "ipython",
    "version": 3
   },
   "file_extension": ".py",
   "mimetype": "text/x-python",
   "name": "python",
   "nbconvert_exporter": "python",
   "pygments_lexer": "ipython3",
   "version": "3.8.19"
  }
 },
 "nbformat": 4,
 "nbformat_minor": 5
}
