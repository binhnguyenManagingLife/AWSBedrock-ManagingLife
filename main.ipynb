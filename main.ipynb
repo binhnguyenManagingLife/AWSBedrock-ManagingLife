{
 "cells": [
  {
   "cell_type": "markdown",
   "id": "22c5b4db-345f-40e6-b1c5-3c24160adf8c",
   "metadata": {},
   "source": [
    "# Import"
   ]
  },
  {
   "cell_type": "code",
   "execution_count": 1,
   "id": "c0be3d4d-ca42-4dbd-ba01-5b097f03175f",
   "metadata": {},
   "outputs": [
    {
     "name": "stdout",
     "output_type": "stream",
     "text": [
      "Running boto3 version: 1.35.34\n"
     ]
    }
   ],
   "source": [
    "import boto3\n",
    "import sys\n",
    "import json\n",
    "import pprint\n",
    "from botocore.client import Config\n",
    "from botocore.exceptions import NoCredentialsError, PartialCredentialsError, ClientError\n",
    "import os\n",
    "import random\n",
    "from retrying import retry\n",
    "import time\n",
    "from utility import *\n",
    "\n",
    "print('Running boto3 version:', boto3.__version__)"
   ]
  },
  {
   "cell_type": "markdown",
   "id": "edff1c5f-0b0a-4026-bc0f-962f2082400e",
   "metadata": {},
   "source": [
    "# Testing connection"
   ]
  },
  {
   "cell_type": "code",
   "execution_count": 2,
   "id": "a1249b99-9df0-410d-b99d-fcb88e61111b",
   "metadata": {},
   "outputs": [
    {
     "name": "stdout",
     "output_type": "stream",
     "text": [
      "Connected successfully! Buckets:\n",
      "  dev-managinglife-aws-bedrock\n",
      "  dev-managinglife-db-bkp\n",
      "  logs-bucket-managinglife\n",
      "  managemypain-archives\n",
      "  managinglife-business-data\n",
      "  managinglife-business-data-humana\n",
      "  managinglife-config-s3\n",
      "  managinglife-documents\n",
      "  managinglife-drupal-db-prod\n",
      "  managinglife-es-bkp\n",
      "  managinglife-guardduty-s3\n",
      "  managinglife-images\n",
      "  managinglife-solr-bkp\n",
      "  managinglife-userdata-ca\n",
      "  managinglife-userdata-ca-dev\n",
      "  managinglife-userdata-ca-preprod\n",
      "  managinglifebucket1\n",
      "  s3-logs-bucket-managinglife\n",
      "  shared-managinglife-developer-s3\n",
      "  terraform-managinglife\n"
     ]
    }
   ],
   "source": [
    "test_aws_connection()"
   ]
  },
  {
   "cell_type": "markdown",
   "id": "039353ff-250e-4033-bf3d-c9e11e5632fa",
   "metadata": {},
   "source": [
    "# Converse API"
   ]
  },
  {
   "cell_type": "code",
   "execution_count": 3,
   "id": "da18bc87-3b63-4f66-a703-0b6661539326",
   "metadata": {},
   "outputs": [],
   "source": [
    "region = 'ca-central-1'\n",
    "\n",
    "bedrock = boto3.client(\n",
    "    service_name = 'bedrock-runtime',\n",
    "    region_name = region,\n",
    "    )\n",
    "\n",
    "MODEL_IDS = [\n",
    "    \"anthropic.claude-3-sonnet-20240229-v1:0\",\n",
    "    ]"
   ]
  },
  {
   "cell_type": "code",
   "execution_count": 4,
   "id": "ab4ce88b-564a-48d6-8bb5-8a0185f8a531",
   "metadata": {},
   "outputs": [
    {
     "name": "stdout",
     "output_type": "stream",
     "text": [
      "Prompt: What is the capital of Italy?\n",
      "\n",
      "Model: anthropic.claude-3-sonnet-20240229-v1:0\n",
      "The capital of Italy is Rome.\n",
      "--- Latency: 478ms - Input tokens:14 - Output tokens:10 ---\n",
      "\n"
     ]
    }
   ],
   "source": [
    "prompt = (\"What is the capital of Italy?\")\n",
    "print(f'Prompt: {prompt}\\n')\n",
    "\n",
    "for i in MODEL_IDS:\n",
    "    response = invoke_bedrock_model(bedrock, i, prompt)\n",
    "    print(f'Model: {i}\\n{response}')"
   ]
  },
  {
   "cell_type": "markdown",
   "id": "18b45658-a0e7-49f0-bf34-3fe3e5cd2240",
   "metadata": {},
   "source": [
    "# Multiple lines Converse API"
   ]
  },
  {
   "cell_type": "code",
   "execution_count": 5,
   "id": "52e2b2ca-9ac9-43fe-badb-7cd05db693e8",
   "metadata": {},
   "outputs": [],
   "source": [
    "bedrock_client = boto3.client('bedrock-runtime',region_name='ca-central-1')"
   ]
  },
  {
   "cell_type": "code",
   "execution_count": 6,
   "id": "3b9caba1-6331-4638-bf11-fdf897e3617b",
   "metadata": {},
   "outputs": [
    {
     "data": {
      "text/plain": [
       "{'id': 'msg_bdrk_017SqWmsWifEn3Nh1git298j',\n",
       " 'type': 'message',\n",
       " 'role': 'assistant',\n",
       " 'model': 'claude-3-sonnet-20240229',\n",
       " 'content': [{'type': 'text',\n",
       "   'text': 'Sure, the concept of discrete or quantized energies is a key principle of quantum mechanics. It states that the energy of particles or systems can only take on certain specific values, rather than varying continuously.\\n\\nSome key points about discrete energies:\\n\\n- Particles like electrons can only exist in specific, discrete energy levels around the nucleus rather than any arbitrary energy level.\\n\\n- When an electron transitions between allowed energy levels, it absorbs or emits a quantum of energy with very specific values corresponding to the energy difference between the levels.\\n\\n- This quantization of energy is observed at the atomic and subatomic scales and contrasts with classical physics, which views energy as continuous.\\n\\n- The allowed discrete energy levels depend on the specific system, like an atom, molecule or particle. Each system has its own unique set of quantized energy levels.\\n\\n- The quantization arises fundamentally from the wave-particle duality of matter and the uncertainty principle in quantum theory.\\n\\nSo in essence, quantum mechanics reveals that energy at small scales is quantized into discrete packets or quanta, rather than being a smooth, continuous quantity. This discreteness leads to many unique quantum phenomena like atomic spectra and quantum jumps.'}],\n",
       " 'stop_reason': 'end_turn',\n",
       " 'stop_sequence': None,\n",
       " 'usage': {'input_tokens': 49, 'output_tokens': 252}}"
      ]
     },
     "execution_count": 6,
     "metadata": {},
     "output_type": "execute_result"
    }
   ],
   "source": [
    "messages=[{ \"role\":'user', \"content\":[{'type':'text','text': \"What is quantum mechanics? \"}]},\\\n",
    "         { \"role\":'assistant', \"content\":[{'type':'text','text': \"It is a branch of physics that \\\n",
    "         describes how matter and energy interact with discrete energy values \"}]},\\\n",
    "         { \"role\":'user', \"content\":[{'type':'text','text': \"Can you explain a bit more about discrete energies?\"}]}]\n",
    "\n",
    "generate_message(bedrock_client, model_id = 'anthropic.claude-3-sonnet-20240229-v1:0',messages=messages,max_tokens=512,temp=0.5,top_p=0.9)"
   ]
  },
  {
   "cell_type": "markdown",
   "id": "4f4debc4-6c9e-47fc-b1b9-894b4523b129",
   "metadata": {},
   "source": [
    "## Messages with System (Personas)"
   ]
  },
  {
   "cell_type": "code",
   "execution_count": 7,
   "id": "1b635537-373e-49b8-bf0a-041d694e268b",
   "metadata": {},
   "outputs": [
    {
     "data": {
      "text/plain": [
       "{'id': 'msg_bdrk_01FRPiHhqQWCfqzdY161WW8p',\n",
       " 'type': 'message',\n",
       " 'role': 'assistant',\n",
       " 'model': 'claude-3-sonnet-20240229',\n",
       " 'content': [{'type': 'text',\n",
       "   'text': \"Here's how I'd explain quantum mechanics in caveman terms:\\n\\nQuantum is tiny tiny world. Too small for caveman eyes to see. In tiny world, things not act like big world caveman knows. \\n\\nIn big world, rock is rock. Always rock. In tiny quantum world, thing can be rock AND not-rock at same time! Crazy, but true.\\n\\nQuantum things also not stay still. Always jumping, dancing around. Never know where thing is exactly. Only know maybe-here, maybe-there probabilities.\\n\\nQuantum world full of weird. Things connected, even far apart. Do one thing, affect 'other thing' somehow. Spooky action!\\n\\nCaveman brain get confused trying understand quantum. But quantum real. Quantum why technology work - computers, lasers, nuclear. Quantum is strange tiny universe controlling big universe we see.\"}],\n",
       " 'stop_reason': 'end_turn',\n",
       " 'stop_sequence': None,\n",
       " 'usage': {'input_tokens': 22, 'output_tokens': 188}}"
      ]
     },
     "execution_count": 7,
     "metadata": {},
     "output_type": "execute_result"
    }
   ],
   "source": [
    "messages = [{ \"role\":'user', \"content\":[{'type':'text','text': \"What is quantum mechanics?\"}]}]\n",
    "\n",
    "system = \"Respond in a way a caveman would understand\"\n",
    "generate_message(bedrock_client, model_id = \"anthropic.claude-3-sonnet-20240229-v1:0\",messages=messages,max_tokens=512,temp=0.5,top_p=0.9,system=system)"
   ]
  },
  {
   "cell_type": "markdown",
   "id": "11018dba-6354-493f-9fb2-2e036f997eb3",
   "metadata": {},
   "source": [
    "# Knowledge base"
   ]
  },
  {
   "cell_type": "code",
   "execution_count": 10,
   "id": "d348a454-08f4-45c5-8d46-4234cf724fee",
   "metadata": {},
   "outputs": [],
   "source": [
    "def retrieveAndGenerate(user_input, document_s3_uri, region, sourceType= \"S3\", model_id = \"anthropic.claude-3-sonnet-20240229-v1:0\"):\n",
    "    model_arn = f'arn:aws:bedrock:{region}::foundation-model/{model_id}'\n",
    "    print (document_s3_uri)\n",
    "    return bedrock_agent_client.retrieve_and_generate(\n",
    "        input={\n",
    "            'text': user_input\n",
    "        },\n",
    "        retrieveAndGenerateConfiguration={\n",
    "            'type': 'EXTERNAL_SOURCES',\n",
    "            'externalSourcesConfiguration': {\n",
    "                'modelArn': model_arn,\n",
    "                \"sources\": [\n",
    "                    {\n",
    "                        \"sourceType\": sourceType,\n",
    "                        \"s3Location\": {\n",
    "                            \"uri\": document_s3_uri\n",
    "                        }\n",
    "                    }\n",
    "                ]\n",
    "            }\n",
    "        }\n",
    "    )"
   ]
  },
  {
   "cell_type": "code",
   "execution_count": 11,
   "id": "fe7be0d6-9974-464c-8753-5d23213ad57b",
   "metadata": {},
   "outputs": [],
   "source": [
    "\n",
    "pp = pprint.PrettyPrinter(indent=2)\n",
    "session = boto3.session.Session()\n",
    "region = session.region_name or 'ca-central-1' \n",
    "bedrock_config = Config(connect_timeout=120, read_timeout=120, retries={'max_attempts': 0})\n",
    "\n",
    "bedrock_agent_client = boto3.client(\"bedrock-agent-runtime\",\n",
    "                              region_name='ca-central-1',\n",
    "                              config=bedrock_config,\n",
    "                                    )\n",
    "model_id = \"anthropic.claude-3-sonnet-20240229-v1:0\""
   ]
  },
  {
   "cell_type": "code",
   "execution_count": 12,
   "id": "6886d058-b91b-4a88-8c88-5b5114712fe8",
   "metadata": {},
   "outputs": [
    {
     "name": "stdout",
     "output_type": "stream",
     "text": [
      "s3://dev-managinglife-aws-bedrock/1. User Guide/Common Questions.md\n",
      "('The document provides information for users of the Manage My Pain app. It '\n",
      " 'covers:\\n'\n",
      " '\\n'\n",
      " '- Getting started and personalizing the app without logging in\\n'\n",
      " '- Creating an account and protecting user data privacy\\n'\n",
      " '- Adding pain records, daily reflections, medications, and other custom '\n",
      " 'values\\n'\n",
      " '- Generating reports to share with healthcare providers, including paid '\n",
      " 'options for more comprehensive reports\\n'\n",
      " '- Managing account information, subscription plans, and in-app purchases\\n'\n",
      " '- Setting reminders for recording pain and reflections\\n'\n",
      " '- Contacting customer support')\n"
     ]
    }
   ],
   "source": [
    "document_s3_uri = \"s3://dev-managinglife-aws-bedrock/1. User Guide/Common Questions.md\"\n",
    "query = \"Summarize the document\"\n",
    "response = retrieveAndGenerate(query, document_s3_uri, region)\n",
    "generated_text = response['output']['text']\n",
    "pp.pprint(generated_text)"
   ]
  },
  {
   "cell_type": "code",
   "execution_count": 13,
   "id": "bf66fe9c-51dc-4d2d-9dd2-f32b9c0cc4e8",
   "metadata": {
    "scrolled": true
   },
   "outputs": [
    {
     "name": "stdout",
     "output_type": "stream",
     "text": [
      "[ '# Getting Started ## 1. Personalize the Application ### Can I personalize '\n",
      "  'the application without logging in to the app? Yes, you can personalize the '\n",
      "  'application without logging in to the app.  ### Do I need to accept the End '\n",
      "  'User License Agreement? Yes, accepting the End User License Agreement is '\n",
      "  \"required to use Manage My Pain.  ### Why can't I find my pain condition? \"\n",
      "  'Our users have added thousands of conditions, but we just show the most '\n",
      "  \"common.  If you can't find one that suits your situation, simply add it!  \"\n",
      "  '### Do I have to add any pain conditions? No, all information entered into '\n",
      "  'Manage My Pain is voluntary.  Keep in mind, the more information that is '\n",
      "  'entered, the more powerful the reports can be.  ### Why are you asking me '\n",
      "  'this? This information allows us to configure the application to better '\n",
      "  'suit your situation, and ensures that the reports generated from Manage My '\n",
      "  'Pain are a better communication tool.  ### Do I have to add medications? '\n",
      "  'No, all information entered into Manage My Pain is voluntary.  ',\n",
      "  'Keep in mind, the more information that is entered, the more powerful the '\n",
      "  \"reports can be.  ### Why can't I find my medication? Our database supports \"\n",
      "  'thousands of medications and brands; however, we may have missed yours.  If '\n",
      "  \"you don't find your medication, drop us a line and we'll get it added.  ## \"\n",
      "  '2. Create an Account ### How do you protect my data? We take security and '\n",
      "  'privacy very seriously, and we are confident in our technical and '\n",
      "  'administrative safeguards to ensure your data remains protected.  Although '\n",
      "  'we are a Canadian-based company, we follow the guidelines put forward by '\n",
      "  'both the Personal Information Protection and Electronic Documents Act '\n",
      "  '(PIPEDA) here in Canada and the Health Insurance Portability and '\n",
      "  'Accountability Act (HIPAA) in the US.  ',\n",
      "  'We have implemented actions to ensure the security and privacy of your data '\n",
      "  'which include, but are not limited to: * transmission of data through a '\n",
      "  'Secure Socket Layer and user authentication using a token-based system and '\n",
      "  'encrypted credentials * encryption of all data in transit and at rest * '\n",
      "  'policies and procedures designed to ensure system administrative safeguards '\n",
      "  'are in place with appropriate management oversight and access controls * '\n",
      "  'regular cadence of security and compliance audits against all servers * '\n",
      "  'backing up all data daily off-site through an encrypted channel * adoption '\n",
      "  'of a written set of privacy procedures and designation of a privacy officer '\n",
      "  'to be responsible for developing and implementing all required policies and '\n",
      "  'procedures * restriction of access to electronic protected health '\n",
      "  'information (EPHI) through clear identification of employees or classes of '\n",
      "  'employees who have a need for it to complete their job function * storage '\n",
      "  'of all data in electronic format on Amazon Web Services (AWS) secure '\n",
      "  'servers, protected by firewall and multiple layers of operational and '\n",
      "  'physical security to ensure the integrity and safety of data  If you have '\n",
      "  'any concerns, please feel free to reach out to the Privacy Officer.   ### '\n",
      "  'Where is my activation email? ',\n",
      "  'If you do not receive an activation email, please check your Spam or Junk '\n",
      "  'folder, as sometimes our emails end up there.  ### Will you disclose any of '\n",
      "  'my information? Never. We detail out how we protect and use your '\n",
      "  'information in our Privacy Policy.  ### Will you send me spam? We never '\n",
      "  'share your email address. We only email you for specific actions like '\n",
      "  'changing your password or requesting a report. Occasionally, we send out an '\n",
      "  'email newsletter, which you are able to unsubscribe from using the link at '\n",
      "  'the bottom of any of our emails.  ### Do I need to create more than one '\n",
      "  'account? You only need to create an account once, and then you can use the '\n",
      "  'same one on all your devices and your data will be synchronized across all '\n",
      "  'of them.  ## 3. Pain Records ### When should I add a pain record? There is '\n",
      "  'no right answer, but these are the three most common times people record '\n",
      "  'their pain: 1. When they receive a notification, which is typically at 8PM '\n",
      "  'everyday  2. When they start a pain episode. ',\n",
      "  'After doing so, they will go back into the record and update information '\n",
      "  '(e.g. duration, alleviating factors, ineffective factors) once the episode '\n",
      "  'has passed.  3. When they end a pain episode. Adding a pain record after '\n",
      "  'the fact requires the person to remember when it started and everything '\n",
      "  'they tried (e.g. medications) to accurately capture things.  ### How do I '\n",
      "  'add baseline or constant pain? In the Timing section, there is an option to '\n",
      "  'select \"All Day\", which automatically creates a pain record that begins at '\n",
      "  '12AM and lasts 24 hours. We recommend that you create this record every day '\n",
      "  'for the most accurate Results.  ### Can I add different ratings for each '\n",
      "  'location? Absolutely! If you have different ratings per location, you will '\n",
      "  'need to create separate entries. We recommend taking this approach so that '\n",
      "  \"the Results are accurate.  ### What do I do if I can't find a value that \"\n",
      "  \"I'm looking for? Our users have added thousands of values that are personal \"\n",
      "  \"to them, but we just show the most common.  If you can't find one that \"\n",
      "  'suits your situation, simply add it!  ',\n",
      "  '### How do I add a record in the past? Just click the words \"right now\" in '\n",
      "  'the question, \"How is your pain right now?\".  Alternatively, you can open '\n",
      "  'the Timing section and change the Start Date and Start Time.  ### When '\n",
      "  'should I update a record? Many of our users come back after several hours '\n",
      "  'to update the end time of their pain episode and the effectiveness of the '\n",
      "  'medication and non-medication interventions that they took.  ### Can I '\n",
      "  'track things other than pain? Given the flexibility within Manage My Pain, '\n",
      "  'you can track anything else you wish.  The best way to do this is to add '\n",
      "  'custom values to the \"Other Associated Symptoms\" section of a pain record.  '\n",
      "  'For example, if you wish to track various moods, add custom values to the '\n",
      "  '\"Other Associated Symptoms\" section such as: Mood (anxious), Mood '\n",
      "  '(apathetic), Mood (happy), Mood (down)  When you record your pain, you can '\n",
      "  'then select the value that best captures your mood.  ## 4. Daily '\n",
      "  \"Reflections ### What do I do if I can't find a value that I'm looking for? \",\n",
      "  'We have provided a starting list of common values in each section based on '\n",
      "  'a review of clinically-validated questionnaires and guidance from our '\n",
      "  \"Medical Advisory Board. If you can't find what you need, just add it!  ### \"\n",
      "  'When should I add a daily reflection? You should add a daily reflection '\n",
      "  'closer to the end of your day prior to going to bed.  Doing so at this time '\n",
      "  'allows you to reflect on everything you accomplished during the day.  ### '\n",
      "  'How do I add a daily reflection in the past? Just click the word \"today\" in '\n",
      "  'the question, \"What did you do that mattered to you today?\"  ### What '\n",
      "  \"happen if I don't add my daily reflection?  The Daily Reflection scores are \"\n",
      "  'a powerful measurement for you and your healthcare team to understand the '\n",
      "  'impact that pain is having on your life.  While information entered into '\n",
      "  'Manage My Pain is voluntary, the more information that is entered, the more '\n",
      "  'powerful the reports can be.  ## 5. Customize List ### How do I add a '\n",
      "  'medication to the list? Adding a medication can be done either through the '\n",
      "  '\"My Profile\" screen or through the \"Add Pain Record\" screen.  ',\n",
      "  'Click here to see detailed steps on how to add medications.  ### How come I '\n",
      "  \"can't find what I need in the list? We have provided a starting list of \"\n",
      "  'common values in each section based on a review of clinically-validated '\n",
      "  \"questionnaires and guidance from our Medical Advisory Board. If you can't \"\n",
      "  'find what you need, just add it!  ### Does editing a custom value affect '\n",
      "  'associated records? Yes, if you edit an existing custom value, all records '\n",
      "  'that are associated with that value will also be updated.  Instead of '\n",
      "  'editing an existing custom value, consider adding a new value.  # Results '\n",
      "  '## 1. Home Screen Cards ### Do I have to rate your app when it pops up? '\n",
      "  'Rating the app is optional, but doing so is an important way for us to '\n",
      "  'improve our app for you and others.  ## 2. Results Tab ### How do I know if '\n",
      "  'my records are synchronized? Every time you add a new record, it will '\n",
      "  'automatically be sent to the server.  If the sync is still to be completed, '\n",
      "  'a green dot will appear on top of the \"sync\" icon. ',\n",
      "  'If the \"sync\" icon is red, there were problems saving the record to your '\n",
      "  'account.  Please press the \"sync\" icon to manually force the information to '\n",
      "  'be synced - if the dot does not disappear and the icon does not change '\n",
      "  'back, please contact support.   ## 3. Filter Records ### Why am I not '\n",
      "  'seeing all my records? You most likely have a filter applied which should '\n",
      "  'be removed.  Please reset your filters.  ### Are records older than 30 days '\n",
      "  'still accessible if I am a free user? Yes, only the Insights, Reports, and '\n",
      "  'Charts are limited to the last 30 days for free users.  All your records '\n",
      "  'are still available and visible under the Records tab.  # Reports ## 1. '\n",
      "  'Generate a Report ### How were these reports created? Our reports were '\n",
      "  'designed in conjunction with a multi-disciplinary pain management team at '\n",
      "  \"Canada's largest academic hospital. The reports are intended to be \"\n",
      "  'summarized and clinically-relevant, so that healthcare professionals are '\n",
      "  'able to quickly and easily able to get the information they need to make a '\n",
      "  'more effective treatment or diagnosis decision.   ### How should I send my '\n",
      "  'report to my doctor? ',\n",
      "  'Once you access your report from the email link, you will be able to view '\n",
      "  'and download the corresponding PDF file. We do not recommend that you email '\n",
      "  'your report, as this is not a secure form of communication. We recommend '\n",
      "  'printing out your report and bringing it with you to your next clinical '\n",
      "  'visit.  ### How do I export these graphs? All graphs are available as '\n",
      "  'sections in the Reports section. Please note that if you wish to include '\n",
      "  'the Charts, Timeline, or Calendar views in the report, it will require a '\n",
      "  'credit.   ### Why do you charge credits for reports?  The most '\n",
      "  'commonly-used section needed by healthcare professionals is the \"Summary\", '\n",
      "  'which does not require a credit. Credits are a way for Lite users to '\n",
      "  'generate a full report without having to purchase the Pro version of the '\n",
      "  'app, and it is also a way for us to continue supporting more comprehensive '\n",
      "  'sections of the report that is only needed by a small segment of our '\n",
      "  'users.  ### Why am I not seeing all my records? You most likely have a '\n",
      "  'filter applied which should be removed.  Please reset your filters.  ### '\n",
      "  'What is the advantage of including the advanced sections in the report? ',\n",
      "  'The more comprehensive sections provide more detail and other visual ways '\n",
      "  'of displaying the information provided on the Summary page.  Many users '\n",
      "  'find these more details report useful when they are explaining their '\n",
      "  'situation for the first time to a new healthcare professionals or require '\n",
      "  'more documentation of their condition to support a claim.  ### How can I '\n",
      "  'export my data? To export your data, you will need to generate a report. We '\n",
      "  'strongly recommend creating an account first, as the resulting reports are '\n",
      "  'far more comprehensive and easier to read.  We currently do not offer the '\n",
      "  'ability to export your data to CSV or any other similar raw format.  ## 2. '\n",
      "  'Order Credits ### How often do I have to purchase credits? Credits are only '\n",
      "  'needed if you wish to generate a report that includes the more '\n",
      "  'comprehensive sections (e.g. Charts, Timeline View, Calendar).  A credit '\n",
      "  'will also be needed if you are a free user and want to generate a report '\n",
      "  'that contains more than 30 days of information.  Pro Subscribers do not '\n",
      "  'require credits to generate reports with advanced sections or including '\n",
      "  'records older than 30 days.  ### What version or plan is best for me? If '\n",
      "  'you plan on using Manage My Pain for longer than 30 days, we strongly '\n",
      "  'recommend upgrading.  ',\n",
      "  'If you plan on generating many reports, we recommend subscribing, as that '\n",
      "  'will be more cost-effective.  ### Is there an expiration date for my '\n",
      "  'purchased credits?  No, there is no expiration date for your purchased '\n",
      "  'credits.  # My Profile ## 1. Account Information ### Where is my activation '\n",
      "  'email? If you do not receive an activation email, please check your Spam or '\n",
      "  'Junk folder, as sometimes our emails end up there.   ### Will you disclose '\n",
      "  'any of my information?  Never. We detail out how we protect and use your '\n",
      "  'information in our Privacy Policy.  ### Will you send me spam? We never '\n",
      "  'share your email address. We only email you for specific actions like '\n",
      "  'changing your password or requesting a report. Occasionally, we send out an '\n",
      "  'email newsletter, which you are able to unsubscribe from using the link at '\n",
      "  'the bottom of any of our emails.  ### Do I need to create more than one '\n",
      "  'account? ',\n",
      "  'You only need to create an account once, and then you can use the same one '\n",
      "  'on all your devices and your data will be synchronized across all of them.  '\n",
      "  '### Do I need to have the same email address for my Google and Facebook '\n",
      "  'account to connect on the app? No, you do not; however, a Google and '\n",
      "  'Facebook account may only be connected to a single account.  ### Is it '\n",
      "  'necessary to set a password when registering via Google or Facebook? No, it '\n",
      "  'is not; however, you have the option have the ability to set a password so '\n",
      "  'that you may log in using an email address and password.  ### What '\n",
      "  'information is synchronized? Pain records; daily reflections; customized '\n",
      "  'lists and show preferences in each section; profile including medications '\n",
      "  'and pain conditions; default filter settings, used in all views of the '\n",
      "  'Results section; default overlay settings, used in the Calendar view of the '\n",
      "  'Results section.  ### What do I do if I forgot my password? If you forgot '\n",
      "  'your password, go to the menu and press \"Login\". This will take you to the '\n",
      "  'login screen.  ',\n",
      "  'If you then press \"RESET PASSWORD\", you will receive an email to change '\n",
      "  'your password.  ### How do I delete my account? If you go to the \"Account '\n",
      "  'Information\" section of \"My Profile\", you will see a button at the bottom '\n",
      "  'called \"DELETE ACCOUNT\". Pressing it will show a confirmation dialogue, '\n",
      "  'where you will need to manually type \"DELETE\" to permanently remove your '\n",
      "  'account and all associated information. Please note that once an account is '\n",
      "  'deleted, it cannot be retrieved.  ## 2. Subcription Plans and Credits ### '\n",
      "  \"What do I do if the data in the Pro version doesn't match the Lite version? \"\n",
      "  'This typically means that your information has not synchronized properly '\n",
      "  'with your account.  We strongly recommending opening the Lite version and '\n",
      "  'ensuring there are no sync errors before uninstalling it.  If you continue '\n",
      "  'to have problems, please contact support.  ### Will I have to purchase the '\n",
      "  'Pro version for my other devices as well? No. Your purchase is now '\n",
      "  'associated with your Google or Apple account. ',\n",
      "  'If you log into your account on another device, you will be able to install '\n",
      "  'Pro without having to purchase it.   ### Will I have to repurchase the Pro '\n",
      "  'version if I lose or change my device? No. Your purchase is now associated '\n",
      "  'with your Google or Apple account. If you log into your account on a new '\n",
      "  'device, you will be able to install Pro without having to repurchase it.  '\n",
      "  '## 3. Pain Conditions ### What conditions should I add? We recommend that '\n",
      "  'you add conditions that are directly relevant to your chronic pain, as this '\n",
      "  'information will be included in the reports intended for your care team.  '\n",
      "  '### Why should I fill this information out? The primary purpose for this '\n",
      "  'information is so that all reports that you generate are more comprehensive '\n",
      "  'and give a fuller picture of your medical history for your care team.  ### '\n",
      "  \"What if I can't find my Pain Condition? It is possible that we do not have \"\n",
      "  'your Pain Condition in our database; however, select \"Add New\" from the '\n",
      "  'Search drop-down, and it will be added right away.  ## 4. Medications ### '\n",
      "  'What should I do if I no longer take a medication? ',\n",
      "  'To maintain your medication history, we recommend that you edit the '\n",
      "  'medication rather than delete it. Go to \"Instructions\", and then add an End '\n",
      "  'Date. You and your doctor will want to know what medications you have used '\n",
      "  'historically.  ### Can I set a reminder to take my medication? Currently, '\n",
      "  'the reminders are only used to record your pain and/or create a daily '\n",
      "  'reflection. We are still working on implementing medication reminders.  ### '\n",
      "  'Where is the strength option for micrograms (mcg)? The standard for '\n",
      "  'micrograms is actually µg - so please select that option.  ### What if I '\n",
      "  \"can't find my medication? It is possible that we may not have your specific \"\n",
      "  'brand of medication in our database; however, if you select \"Add New\" from '\n",
      "  'the Search drop-down, it will send us an email to have it added.  Note that '\n",
      "  'most vitamins or supplements can be added by their medicinal ingredients; '\n",
      "  'however, if these ingredients do not already exist, you can add them as a '\n",
      "  'custom value under the \"Intervention\" section.  ### How does this app tell '\n",
      "  'me if the medication is working?  ',\n",
      "  'We recommend looking at the trend lines of both your pain scores and daily '\n",
      "  'reflection scores since the day you started the medication.  ### Can I add '\n",
      "  'supplements to My Profile? Most ingredients in supplements can be added as '\n",
      "  'a Medication. For example, you can add \"Vitamin B1 / thiamine\" to your '\n",
      "  \"profile. If you don't find an ingredient you're looking for, drop us a \"\n",
      "  'line.  ## 5. About Me ### Why do I have to add additional personal '\n",
      "  'information on my account? The primary purpose for this information is so '\n",
      "  'that all reports that you generate are more comprehensive and give a fuller '\n",
      "  'picture of your medical history for your care team.   # Settings ## 1. '\n",
      "  'Language ### What languages are supported in the app? We currently support '\n",
      "  '7 languages in our app: English, French, German, Spanish, Russian, Korean, '\n",
      "  'and Simplified Chinese.  ## 2. Reminders ### When should I set my '\n",
      "  'reminders? We recommend that you set it for a time when the majority of '\n",
      "  \"your day's activities are completed. \",\n",
      "  'It defaults to 8PM, but it can be changed to fit your specific lifestyle '\n",
      "  'and schedule.  ### Can I set a reminder to take my medication? Currently, '\n",
      "  'the reminders are only used to record your pain and/or create a daily '\n",
      "  'reflection. We are still working on implementing medication reminders.  ### '\n",
      "  'What happens if I click a notification reminder? Any reminder after 6:45 PM '\n",
      "  'will take you to the \"Add Daily Reflection\" screen when clicked if there '\n",
      "  \"isn't already a Daily Reflection recorded today.  Otherwise, clicking the \"\n",
      "  'notification will take you to the \"Add Pain Record\" screen.  ### Can I have '\n",
      "  'multiple reminders in a day? Yes, you can add multiple reminders in a day. '\n",
      "  'Go to settings, press \"ADD REMINDER\".  To read the detailed step-by-step '\n",
      "  'guide on how to add a reminder, press here.  ### Can I disable or delete a '\n",
      "  'reminder? Press the \"toggle\" icon on the right-hand side to disable a '\n",
      "  'reminder.  If you want to delete a reminder, press a reminder and on '\n",
      "  'top-right side of the screen, press the \"delete\" icon.  ',\n",
      "  'To read the detailed step-by-step guide on how to delete a reminder, press '\n",
      "  'here.  ## 3. Privacy Settings ### How do you protect my data? We take '\n",
      "  'security and privacy very seriously, and we are confident in our technical '\n",
      "  'and administrative safeguards to ensure your data remains protected.  '\n",
      "  'Although we are a Canadian-based company, we follow the guidelines put '\n",
      "  'forward by both the Personal Information Protection and Electronic '\n",
      "  'Documents Act (PIPEDA) here in Canada and the Health Insurance Portability '\n",
      "  'and Accountability Act (HIPAA) in the US.  ',\n",
      "  'We have implemented actions to ensure the security and privacy of your data '\n",
      "  'which include, but are not limited to: * transmission of data through a '\n",
      "  'Secure Socket Layer and user authentication using a token-based system and '\n",
      "  'encrypted credentials * encryption of all data in transit and at rest * '\n",
      "  'policies and procedures designed to ensure system administrative safeguards '\n",
      "  'are in place with appropriate management oversight and access controls * '\n",
      "  'regular cadence of security and compliance audits against all servers * '\n",
      "  'backing up all data daily off-site through an encrypted channel * adoption '\n",
      "  'of a written set of privacy procedures and designation of a privacy officer '\n",
      "  'to be responsible for developing and implementing all required policies and '\n",
      "  'procedures * restriction of access to electronic protected health '\n",
      "  'information (EPHI) through clear identification of employees or classes of '\n",
      "  'employees who have a need for it to complete their job function * storage '\n",
      "  'of all data in electronic format on Amazon Web Services (AWS) secure '\n",
      "  'servers, protected by firewall and multiple layers of operational and '\n",
      "  'physical security to ensure the integrity and safety of data  If you have '\n",
      "  'any concerns, please feel free to reach out to the Privacy Officer.   ## 4. '\n",
      "  \"Get More Help ### How do I contact customer support? If you can't find what \"\n",
      "  'you need on our FAQ or User guide you can contact us at '\n",
      "  'contact@managinglife.com']\n"
     ]
    }
   ],
   "source": [
    "citations = response[\"citations\"]\n",
    "contexts = []\n",
    "for citation in citations:\n",
    "    retrievedReferences = citation[\"retrievedReferences\"]\n",
    "    for reference in retrievedReferences:\n",
    "         contexts.append(reference[\"content\"][\"text\"])\n",
    "\n",
    "pp.pprint(contexts)"
   ]
  },
  {
   "cell_type": "markdown",
   "id": "c895854b-dbb9-48c2-8e58-fc2a4f7f71b2",
   "metadata": {},
   "source": [
    "# Knowledge base template\n",
    "This notebook provides sample code for building an empty OpenSearch Serverless (OSS) index,Knowledge bases for Amazon Bedrock and ingest documents into the index from various data sources (S3, Confluence, Sharepoint, Salesforce, and Web). \n",
    "\n",
    "A data pipeline that ingests documents (typically stored in multiple data sources) into a knowledge base i.e. a vector database such as Amazon OpenSearch Service Serverless (AOSS) so that it is available for lookup when a question is received.\n",
    "\n",
    "- Create an empty OpenSearch serverless index.\n",
    "- Create knowledge base\n",
    "- Create data source(s) within knowledge base\n",
    "- For each data source, start ingestion jobs using KB APIs which will read data from the data source, chunk it, convert chunks into embeddings using Amazon Titan Embeddings model and then store these embeddings in AOSS. All of this without having to build, deploy and manage the data pipeline."
   ]
  },
  {
   "cell_type": "code",
   "execution_count": 14,
   "id": "46c095b9-ffdf-48a7-a877-5d64de837f4b",
   "metadata": {},
   "outputs": [],
   "source": [
    "suffix = random.randrange(200, 900)\n",
    "\n",
    "sts_client = boto3.client('sts')\n",
    "boto3_session = boto3.session.Session()\n",
    "region_name = boto3_session.region_name or 'ca-central-1'\n",
    "\n",
    "bedrock_agent_client = boto3.client('bedrock-agent', region_name=region_name)\n",
    "bedrock_agent_runtime_client = boto3.client('bedrock-agent-runtime', region_name=region_name)\n",
    "\n",
    "service = 'aoss'\n",
    "s3_client = boto3.client('s3')\n",
    "account_id = sts_client.get_caller_identity()[\"Account\"]\n",
    "s3_suffix = f\"{region_name}-{account_id}\""
   ]
  },
  {
   "cell_type": "code",
   "execution_count": 15,
   "id": "3c9de302-a223-459c-8179-a785b9fcf9f6",
   "metadata": {},
   "outputs": [],
   "source": [
    "bucket_name = 'dev-managinglife-aws-bedrock'\n",
    "\n",
    "## Below is a list of data sources including, 1 S3 buckets, 1 confluence, 1 Sharepoint, 1 Salesforce connectors\n",
    "\n",
    "data_sources=[\n",
    "                {\"type\": \"S3\", \"bucket_name\": bucket_name}, \n",
    "                \n",
    "                # {\"type\": \"CONFLUENCE\", \"hostUrl\": \"https://example.atlassian.net\", \"authType\": \"BASIC\",\n",
    "                #  \"credentialsSecretArn\": f\"arn:aws::secretsmanager:{region_name}:secret:<<your_secret_name>>\"},\n",
    "\n",
    "                # {\"type\": \"SHAREPOINT\", \"tenantId\": \"888d0b57-69f1-4fb8-957f-e1f0bedf64de\", \"domain\": \"yourdomain\",\n",
    "                #   \"authType\": \"OAUTH2_CLIENT_CREDENTIALS\",\n",
    "                #  \"credentialsSecretArn\": f\"arn:aws::secretsmanager:{region_name}:secret:<<your_secret_name>>\",\n",
    "                #  \"siteUrls\": [\"https://yourdomain.sharepoint.com/sites/mysite\"]\n",
    "                # },\n",
    "\n",
    "                # {\"type\": \"SALESFORCE\", \"hostUrl\": \"https://company.salesforce.com/\", \"authType\": \"OAUTH2_CLIENT_CREDENTIALS\",\n",
    "                #  \"credentialsSecretArn\": f\"arn:aws::secretsmanager:{region_name}:secret:<<your_secret_name>>\"\n",
    "                # },\n",
    "\n",
    "                # {\"type\": \"WEB\", \"seedUrls\": [{ \"url\": \"https://www.examplesite.com\"}],\n",
    "                #  \"inclusionFilters\": [\"https://www\\.examplesite\\.com/.*\\.html\"],\n",
    "                #  \"exclusionFilters\": [\"https://www\\.examplesite\\.com/contact-us\\.html\"]\n",
    "                # }\n",
    "            ]\n",
    "                \n",
    "pp = pprint.PrettyPrinter(indent=2)"
   ]
  },
  {
   "cell_type": "code",
   "execution_count": 16,
   "id": "9c2b8fb0-48e7-44fa-932e-130a6d073a73",
   "metadata": {},
   "outputs": [
    {
     "name": "stdout",
     "output_type": "stream",
     "text": [
      "Bucket dev-managinglife-aws-bedrock Exists\n"
     ]
    }
   ],
   "source": [
    "# For S3 data source, check if S3 bucket exists, and if not create S3 bucket for knowledge base data source\n",
    "\n",
    "for ds in [d for d in data_sources if d['type']== 'S3']:\n",
    "    bucket_name = ds['bucket_name']\n",
    "    s3_client.head_bucket(Bucket=bucket_name)\n",
    "    print(f'Bucket {bucket_name} Exists')\n",
    "   "
   ]
  },
  {
   "cell_type": "markdown",
   "id": "420ca59e-0c36-455a-91ee-0493acbb67a8",
   "metadata": {},
   "source": [
    "## Create a vector store - Open Search Serverless Index"
   ]
  },
  {
   "cell_type": "code",
   "execution_count": 17,
   "id": "a0c68818-eed7-4f08-8667-01b00b4cc915",
   "metadata": {},
   "outputs": [],
   "source": [
    "vector_store_name = f'bedrock-sample-rag-{suffix}'\n",
    "index_name = f\"bedrock-sample-rag-index-{suffix}\"\n",
    "aoss_client = boto3_session.client('opensearchserverless', region_name = 'ca-central-1')\n",
    "\n",
    "# Personal ARN \n",
    "bedrock_kb_execution_role_arn = 'arn:aws:iam::442186832995:role/service-role/AmazonBedrockExecutionRoleForKnowledgeBase_nmhn9'"
   ]
  },
  {
   "cell_type": "code",
   "execution_count": 18,
   "id": "05fc6275-83be-4483-848c-65532414a1fc",
   "metadata": {},
   "outputs": [],
   "source": [
    "# create security, network and data access policies within OSS\n",
    "encryption_policy, network_policy, access_policy = create_policies_in_oss(vector_store_name=vector_store_name,\n",
    "                       aoss_client=aoss_client,\n",
    "                       bedrock_kb_execution_role_arn=bedrock_kb_execution_role_arn)\n",
    "collection = aoss_client.create_collection(name=vector_store_name,type='VECTORSEARCH')"
   ]
  },
  {
   "cell_type": "code",
   "execution_count": 19,
   "id": "249acdf2-cacf-4ce4-bf35-19935a9f9340",
   "metadata": {},
   "outputs": [
    {
     "name": "stdout",
     "output_type": "stream",
     "text": [
      "{ 'ResponseMetadata': { 'HTTPHeaders': { 'connection': 'keep-alive',\n",
      "                                         'content-length': '317',\n",
      "                                         'content-type': 'application/x-amz-json-1.0',\n",
      "                                         'date': 'Mon, 07 Oct 2024 15:49:01 '\n",
      "                                                 'GMT',\n",
      "                                         'x-amzn-requestid': '84dac4f9-283f-4265-a38e-91965ed5bc31'},\n",
      "                        'HTTPStatusCode': 200,\n",
      "                        'RequestId': '84dac4f9-283f-4265-a38e-91965ed5bc31',\n",
      "                        'RetryAttempts': 0},\n",
      "  'createCollectionDetail': { 'arn': 'arn:aws:aoss:ca-central-1:442186832995:collection/iju9hsanwdefvqjeucdc',\n",
      "                              'createdDate': 1728316141498,\n",
      "                              'id': 'iju9hsanwdefvqjeucdc',\n",
      "                              'kmsKeyArn': 'auto',\n",
      "                              'lastModifiedDate': 1728316141498,\n",
      "                              'name': 'bedrock-sample-rag-825',\n",
      "                              'standbyReplicas': 'ENABLED',\n",
      "                              'status': 'CREATING',\n",
      "                              'type': 'VECTORSEARCH'}}\n"
     ]
    }
   ],
   "source": [
    "pp.pprint(collection)"
   ]
  },
  {
   "cell_type": "code",
   "execution_count": 20,
   "id": "6cd3dfb3-ed5a-47c8-9e76-9054581ad2e3",
   "metadata": {},
   "outputs": [
    {
     "name": "stdout",
     "output_type": "stream",
     "text": [
      "iju9hsanwdefvqjeucdc.ca-central-1.aoss.amazonaws.com\n"
     ]
    }
   ],
   "source": [
    "# Get the OpenSearch serverless collection URL\n",
    "collection_id = collection['createCollectionDetail']['id']\n",
    "host = collection_id + '.' + region_name + '.aoss.amazonaws.com'\n",
    "print(host)"
   ]
  },
  {
   "cell_type": "code",
   "execution_count": 21,
   "id": "94206b49-a16e-4945-af30-92f61c99c5ae",
   "metadata": {},
   "outputs": [
    {
     "name": "stdout",
     "output_type": "stream",
     "text": [
      "\n",
      "Collection successfully created:\n",
      "[ { 'arn': 'arn:aws:aoss:ca-central-1:442186832995:collection/iju9hsanwdefvqjeucdc',\n",
      "    'collectionEndpoint': 'https://iju9hsanwdefvqjeucdc.ca-central-1.aoss.amazonaws.com',\n",
      "    'createdDate': 1728316141498,\n",
      "    'dashboardEndpoint': 'https://iju9hsanwdefvqjeucdc.ca-central-1.aoss.amazonaws.com/_dashboards',\n",
      "    'id': 'iju9hsanwdefvqjeucdc',\n",
      "    'kmsKeyArn': 'auto',\n",
      "    'lastModifiedDate': 1728316164606,\n",
      "    'name': 'bedrock-sample-rag-825',\n",
      "    'standbyReplicas': 'ENABLED',\n",
      "    'status': 'ACTIVE',\n",
      "    'type': 'VECTORSEARCH'}]\n"
     ]
    }
   ],
   "source": [
    "# Wait for collection creation\n",
    "response = aoss_client.batch_get_collection(names=[vector_store_name])\n",
    "# Periodically check collection status\n",
    "while (response['collectionDetails'][0]['status']) == 'CREATING':\n",
    "    print('Creating collection...')\n",
    "    interactive_sleep(30)\n",
    "    response = aoss_client.batch_get_collection(names=[vector_store_name])\n",
    "print('\\nCollection successfully created:')\n",
    "pp.pprint(response[\"collectionDetails\"])"
   ]
  },
  {
   "cell_type": "code",
   "execution_count": 22,
   "id": "88025ac4-ec79-4780-be37-2fa3c2b150de",
   "metadata": {},
   "outputs": [
    {
     "name": "stdout",
     "output_type": "stream",
     "text": [
      "Policy already exists\n",
      "NameError(\"name 'bedrock_kb_execution_role' is not defined\")\n"
     ]
    }
   ],
   "source": [
    "# create opensearch serverless access policy and attach it to Bedrock execution role\n",
    "try:\n",
    "    create_oss_policy_attach_bedrock_execution_role(collection_id=collection_id,\n",
    "                                                    bedrock_kb_execution_role=bedrock_kb_execution_role)\n",
    "    # It can take up to a minute for data access rules to be enforced\n",
    "    interactive_sleep(60)\n",
    "except Exception as e:\n",
    "    print(\"Policy already exists\")\n",
    "    pp.pprint(e)"
   ]
  },
  {
   "cell_type": "markdown",
   "id": "c7c07724-b7f5-45c7-8af7-9fe2d6dfd77f",
   "metadata": {},
   "source": [
    "## Create vector index"
   ]
  },
  {
   "cell_type": "code",
   "execution_count": 23,
   "id": "94b9ab55-950b-4701-8ffd-dfddf120a14b",
   "metadata": {},
   "outputs": [],
   "source": [
    "# Create the vector index in Opensearch serverless, with the knn_vector field index mapping, specifying the dimension size, name and engine.\n",
    "from opensearchpy import OpenSearch, RequestsHttpConnection, AWSV4SignerAuth, RequestError\n",
    "credentials = boto3.Session().get_credentials()\n",
    "awsauth = auth = AWSV4SignerAuth(credentials, region_name, service)\n",
    "\n",
    "index_name = f\"bedrock-sample-index-{suffix}\"\n",
    "body_json = {\n",
    "   \"settings\": {\n",
    "      \"index.knn\": \"true\",\n",
    "       \"number_of_shards\": 1,\n",
    "       \"knn.algo_param.ef_search\": 512,\n",
    "       \"number_of_replicas\": 0,\n",
    "   },\n",
    "   \"mappings\": {\n",
    "      \"properties\": {\n",
    "         \"vector\": {\n",
    "            \"type\": \"knn_vector\",\n",
    "            \"dimension\": 1024,\n",
    "             \"method\": {\n",
    "                 \"name\": \"hnsw\",\n",
    "                 \"engine\": \"faiss\",\n",
    "                 \"space_type\": \"l2\"\n",
    "             },\n",
    "         },\n",
    "         \"text\": {\n",
    "            \"type\": \"text\"\n",
    "         },\n",
    "         \"text-metadata\": {\n",
    "            \"type\": \"text\"         }\n",
    "      }\n",
    "   }\n",
    "}\n",
    "\n",
    "# Build the OpenSearch client\n",
    "oss_client = OpenSearch(\n",
    "    hosts=[{'host': host, 'port': 443}],\n",
    "    http_auth=awsauth,\n",
    "    use_ssl=True,\n",
    "    verify_certs=True,\n",
    "    connection_class=RequestsHttpConnection,\n",
    "    timeout=300\n",
    ")\n"
   ]
  },
  {
   "cell_type": "code",
   "execution_count": 24,
   "id": "f6ab587f-a16d-4c86-97bd-00f923416531",
   "metadata": {},
   "outputs": [
    {
     "name": "stdout",
     "output_type": "stream",
     "text": [
      "\n",
      "Creating index:\n",
      "{ 'acknowledged': True,\n",
      "  'index': 'bedrock-sample-index-825',\n",
      "  'shards_acknowledged': True}\n",
      "............................................................\r"
     ]
    }
   ],
   "source": [
    "# Create index\n",
    "try:\n",
    "    response = oss_client.indices.create(index=index_name, body=json.dumps(body_json))\n",
    "    print('\\nCreating index:')\n",
    "    pp.pprint(response)\n",
    "\n",
    "    # index creation can take up to a minute\n",
    "    interactive_sleep(60)\n",
    "except RequestError as e:\n",
    "    # you can delete the index if its already exists\n",
    "    # oss_client.indices.delete(index=index_name)\n",
    "    print(f'Error while trying to create the index, with error {e.error}\\nyou may unmark the delete above to delete, and recreate the index')\n",
    "    "
   ]
  },
  {
   "cell_type": "markdown",
   "id": "4e81ae06-65ac-4874-b7a5-3049c6f2306b",
   "metadata": {},
   "source": [
    "## Create KB"
   ]
  },
  {
   "cell_type": "code",
   "execution_count": 25,
   "id": "022f21ff-5ab4-4fee-bd69-2e4135b19039",
   "metadata": {},
   "outputs": [],
   "source": [
    "opensearchServerlessConfiguration = {\n",
    "            \"collectionArn\": collection[\"createCollectionDetail\"]['arn'],\n",
    "            \"vectorIndexName\": index_name,\n",
    "            \"fieldMapping\": {\n",
    "                \"vectorField\": \"vector\",\n",
    "                \"textField\": \"text\",\n",
    "                \"metadataField\": \"text-metadata\"\n",
    "            }\n",
    "        }\n",
    "\n",
    "# The embedding model used by Bedrock to embed ingested documents, and realtime prompts\n",
    "embeddingModelArn = f\"arn:aws:bedrock:{region_name}::foundation-model/amazon.titan-embed-text-v2:0\"\n",
    "                    \n",
    "name = f\"bedrock-sample-knowledge-base-{suffix}\"\n",
    "description = \"Amazon shareholder letter knowledge base.\"\n",
    "roleArn = bedrock_kb_execution_role_arn\n"
   ]
  },
  {
   "cell_type": "code",
   "execution_count": 26,
   "id": "45896b9a-29a9-492c-a0d1-994a19d65a4d",
   "metadata": {},
   "outputs": [],
   "source": [
    "# Create a KnowledgeBase\n",
    "from retrying import retry\n",
    "\n",
    "@retry(wait_random_min=1000, wait_random_max=2000,stop_max_attempt_number=7)\n",
    "def create_knowledge_base_func():\n",
    "    create_kb_response = bedrock_agent_client.create_knowledge_base(\n",
    "        name = name,\n",
    "        description = description,\n",
    "        roleArn = roleArn,\n",
    "        knowledgeBaseConfiguration = {\n",
    "            \"type\": \"VECTOR\",\n",
    "            \"vectorKnowledgeBaseConfiguration\": {\n",
    "                \"embeddingModelArn\": embeddingModelArn\n",
    "            }\n",
    "        },\n",
    "        storageConfiguration = {\n",
    "            \"type\": \"OPENSEARCH_SERVERLESS\",\n",
    "            \"opensearchServerlessConfiguration\":opensearchServerlessConfiguration\n",
    "        }\n",
    "    )\n",
    "    return create_kb_response[\"knowledgeBase\"]"
   ]
  },
  {
   "cell_type": "code",
   "execution_count": 27,
   "id": "0ecf141a-deae-49f0-9aff-b190d13ae7b6",
   "metadata": {},
   "outputs": [
    {
     "name": "stdout",
     "output_type": "stream",
     "text": [
      "{ 'createdAt': datetime.datetime(2024, 10, 7, 15, 58, 1, 786250, tzinfo=tzutc()),\n",
      "  'description': 'Amazon shareholder letter knowledge base.',\n",
      "  'knowledgeBaseArn': 'arn:aws:bedrock:ca-central-1:442186832995:knowledge-base/LSGWC8EJRL',\n",
      "  'knowledgeBaseConfiguration': { 'type': 'VECTOR',\n",
      "                                  'vectorKnowledgeBaseConfiguration': { 'embeddingModelArn': 'arn:aws:bedrock:ca-central-1::foundation-model/amazon.titan-embed-text-v2:0'}},\n",
      "  'knowledgeBaseId': 'LSGWC8EJRL',\n",
      "  'name': 'bedrock-sample-knowledge-base-825',\n",
      "  'roleArn': 'arn:aws:iam::442186832995:role/service-role/AmazonBedrockExecutionRoleForKnowledgeBase_nmhn9',\n",
      "  'status': 'CREATING',\n",
      "  'storageConfiguration': { 'opensearchServerlessConfiguration': { 'collectionArn': 'arn:aws:aoss:ca-central-1:442186832995:collection/iju9hsanwdefvqjeucdc',\n",
      "                                                                   'fieldMapping': { 'metadataField': 'text-metadata',\n",
      "                                                                                     'textField': 'text',\n",
      "                                                                                     'vectorField': 'vector'},\n",
      "                                                                   'vectorIndexName': 'bedrock-sample-index-825'},\n",
      "                            'type': 'OPENSEARCH_SERVERLESS'},\n",
      "  'updatedAt': datetime.datetime(2024, 10, 7, 15, 58, 1, 786250, tzinfo=tzutc())}\n"
     ]
    }
   ],
   "source": [
    "try:\n",
    "    kb = create_knowledge_base_func()\n",
    "except Exception as err:\n",
    "    print(f\"{err=}, {type(err)=}\")\n",
    "\n",
    "pp.pprint(kb)"
   ]
  },
  {
   "cell_type": "code",
   "execution_count": 28,
   "id": "0365971d-eb7e-44f0-9729-9fcb80490bfb",
   "metadata": {},
   "outputs": [],
   "source": [
    "# Get KnowledgeBase \n",
    "get_kb_response = bedrock_agent_client.get_knowledge_base(knowledgeBaseId = kb['knowledgeBaseId'])"
   ]
  },
  {
   "cell_type": "markdown",
   "id": "3d830591-7fd2-4e84-a8c6-e3534bbd66ee",
   "metadata": {},
   "source": [
    "## Create data sources\n",
    "\n",
    "- chunkingStrategyConfiguration can modify the parameters\n",
    "\n",
    "NOTE: In the current sample, we'll use FIXED_SIZE chunking Strategy but you can also use other chunking chunking strategies like HIERARCHICAL, SEMANTIC or NONE. For more details on the chunking startegies please refer to the [AWS documentation page](https://docs.aws.amazon.com/bedrock/latest/APIReference/API_agent_ChunkingConfiguration.html)"
   ]
  },
  {
   "cell_type": "code",
   "execution_count": 33,
   "id": "6e86a84f-1df0-438e-8cf4-84f9340f8ebd",
   "metadata": {},
   "outputs": [],
   "source": [
    "# Function to create KB\n",
    "def create_ds(data_sources):\n",
    "    ds_list=[]\n",
    "    for idx, ds in enumerate(data_sources):\n",
    "        # Ingest strategy - How to ingest data from the data source\n",
    "        chunkingStrategyConfiguration = {\n",
    "            \"chunkingStrategy\": \"FIXED_SIZE\", \n",
    "            \"fixedSizeChunkingConfiguration\": {\n",
    "                \"maxTokens\": 512,\n",
    "                \"overlapPercentage\": 20\n",
    "            }\n",
    "        }\n",
    "        \n",
    "        # The data source to ingest documents from, into the OpenSearch serverless knowledge base index\n",
    "        \n",
    "        s3DataSourceConfiguration = {\n",
    "                \"type\": \"S3\",\n",
    "                \"s3Configuration\":{\n",
    "                    \"bucketArn\": \"\",\n",
    "                    # \"inclusionPrefixes\":[\"*.*\"] # you can use this if you want to create a KB using data within s3 prefixes.\n",
    "                    }\n",
    "            }\n",
    "        \n",
    "        confluenceDataSourceConfiguration = {\n",
    "            \"confluenceConfiguration\": {\n",
    "                \"sourceConfiguration\": {\n",
    "                    \"hostUrl\": \"\",\n",
    "                    \"hostType\": \"SAAS\",\n",
    "                    \"authType\": \"\", # BASIC | OAUTH2_CLIENT_CREDENTIALS\n",
    "                    \"credentialsSecretArn\": \"\"\n",
    "                    \n",
    "                },\n",
    "                \"crawlerConfiguration\": {\n",
    "                    \"filterConfiguration\": {\n",
    "                        \"type\": \"PATTERN\",\n",
    "                        \"patternObjectFilter\": {\n",
    "                            \"filters\": [\n",
    "                                {\n",
    "                                    \"objectType\": \"Attachment\",\n",
    "                                    \"inclusionFilters\": [\n",
    "                                        \".*\\\\.pdf\"\n",
    "                                    ],\n",
    "                                    \"exclusionFilters\": [\n",
    "                                        \".*private.*\\\\.pdf\"\n",
    "                                    ]\n",
    "                                }\n",
    "                            ]\n",
    "                        }\n",
    "                    }\n",
    "                }\n",
    "            },\n",
    "            \"type\": \"CONFLUENCE\"\n",
    "        }\n",
    "\n",
    "        sharepointDataSourceConfiguration = {\n",
    "            \"sharePointConfiguration\": {\n",
    "                \"sourceConfiguration\": {\n",
    "                    \"tenantId\": \"\",\n",
    "                    \"hostType\": \"ONLINE\",\n",
    "                    \"domain\": \"domain\",\n",
    "                    \"siteUrls\": [],\n",
    "                    \"authType\": \"\", # BASIC | OAUTH2_CLIENT_CREDENTIALS\n",
    "                    \"credentialsSecretArn\": \"\"\n",
    "                    \n",
    "                },\n",
    "                \"crawlerConfiguration\": {\n",
    "                    \"filterConfiguration\": {\n",
    "                        \"type\": \"PATTERN\",\n",
    "                        \"patternObjectFilter\": {\n",
    "                            \"filters\": [\n",
    "                                {\n",
    "                                    \"objectType\": \"Attachment\",\n",
    "                                    \"inclusionFilters\": [\n",
    "                                        \".*\\\\.pdf\"\n",
    "                                    ],\n",
    "                                    \"exclusionFilters\": [\n",
    "                                        \".*private.*\\\\.pdf\"\n",
    "                                    ]\n",
    "                                }\n",
    "                            ]\n",
    "                        }\n",
    "                    }\n",
    "                }\n",
    "            },\n",
    "            \"type\": \"SHAREPOINT\"\n",
    "        }\n",
    "\n",
    "\n",
    "        salesforceDataSourceConfiguration = {\n",
    "            \"salesforceConfiguration\": {\n",
    "                \"sourceConfiguration\": {\n",
    "                    \"hostUrl\": \"\",\n",
    "                    \"authType\": \"\", # BASIC | OAUTH2_CLIENT_CREDENTIALS\n",
    "                    \"credentialsSecretArn\": \"\"\n",
    "                },\n",
    "                \"crawlerConfiguration\": {\n",
    "                    \"filterConfiguration\": {\n",
    "                        \"type\": \"PATTERN\",\n",
    "                        \"patternObjectFilter\": {\n",
    "                            \"filters\": [\n",
    "                                {\n",
    "                                    \"objectType\": \"Attachment\",\n",
    "                                    \"inclusionFilters\": [\n",
    "                                        \".*\\\\.pdf\"\n",
    "                                    ],\n",
    "                                    \"exclusionFilters\": [\n",
    "                                        \".*private.*\\\\.pdf\"\n",
    "                                    ]\n",
    "                                }\n",
    "                            ]\n",
    "                        }\n",
    "                    }\n",
    "                }\n",
    "            },\n",
    "            \"type\": \"SALESFORCE\"\n",
    "        }\n",
    "\n",
    "        webcrawlerDataSourceConfiguration = {\n",
    "            \"webConfiguration\": {\n",
    "                \"sourceConfiguration\": {\n",
    "                    \"urlConfiguration\": {\n",
    "                        \"seedUrls\": []\n",
    "                    }\n",
    "                },\n",
    "                \"crawlerConfiguration\": {\n",
    "                    \"crawlerLimits\": {\n",
    "                        \"rateLimit\": 50\n",
    "                    },\n",
    "                    \"scope\": \"HOST_ONLY\",\n",
    "                    \"inclusionFilters\": [],\n",
    "                    \"exclusionFilters\": []\n",
    "                }\n",
    "            },\n",
    "            \"type\": \"WEB\"\n",
    "        }\n",
    "\n",
    "        # Set the data source configuration based on the Data source type\n",
    "\n",
    "        if ds['type'] == \"S3\":\n",
    "            print(f'{idx +1 } data source: S3')\n",
    "            ds_name = f'{name}-{bucket_name}'\n",
    "            s3DataSourceConfiguration[\"s3Configuration\"][\"bucketArn\"] = f'arn:aws:s3:::{ds[\"bucket_name\"]}'\n",
    "            # print(s3DataSourceConfiguration)\n",
    "            data_source_configuration = s3DataSourceConfiguration\n",
    "        \n",
    "        if ds['type'] == \"CONFLUENCE\":\n",
    "            print(f'{idx +1 } data source: CONFLUENCE')\n",
    "            ds_name = f'{name}-confluence'\n",
    "            confluenceDataSourceConfiguration['confluenceConfiguration']['sourceConfiguration']['hostUrl'] = ds['hostUrl']\n",
    "            confluenceDataSourceConfiguration['confluenceConfiguration']['sourceConfiguration']['authType'] = ds['authType']\n",
    "            confluenceDataSourceConfiguration['confluenceConfiguration']['sourceConfiguration']['credentialsSecretArn'] = ds['credentialsSecretArn']\n",
    "            # print(confluenceDataSourceConfiguration)\n",
    "            data_source_configuration = confluenceDataSourceConfiguration\n",
    "\n",
    "        if ds['type'] == \"SHAREPOINT\":\n",
    "            print(f'{idx +1 } data source: SHAREPOINT')\n",
    "            ds_name = f'{name}-sharepoint'\n",
    "            sharepointDataSourceConfiguration['sharePointConfiguration']['sourceConfiguration']['tenantId'] = ds['tenantId']\n",
    "            sharepointDataSourceConfiguration['sharePointConfiguration']['sourceConfiguration']['domain'] = ds['domain']\n",
    "            sharepointDataSourceConfiguration['sharePointConfiguration']['sourceConfiguration']['authType'] = ds['authType']\n",
    "            sharepointDataSourceConfiguration['sharePointConfiguration']['sourceConfiguration']['siteUrls'] = ds[\"siteUrls\"]\n",
    "            sharepointDataSourceConfiguration['sharePointConfiguration']['sourceConfiguration']['credentialsSecretArn'] = ds['credentialsSecretArn']\n",
    "            # print(sharepointDataSourceConfiguration)\n",
    "            data_source_configuration = sharepointDataSourceConfiguration\n",
    "\n",
    "\n",
    "        if ds['type'] == \"SALESFORCE\":\n",
    "            print(f'{idx +1 } data source: SALESFORCE')\n",
    "            ds_name = f'{name}-salesforce'\n",
    "            salesforceDataSourceConfiguration['salesforceConfiguration']['sourceConfiguration']['hostUrl'] = ds['hostUrl']\n",
    "            salesforceDataSourceConfiguration['salesforceConfiguration']['sourceConfiguration']['authType'] = ds['authType']\n",
    "            salesforceDataSourceConfiguration['salesforceConfiguration']['sourceConfiguration']['credentialsSecretArn'] = ds['credentialsSecretArn']\n",
    "            # print(salesforceDataSourceConfiguration)\n",
    "            data_source_configuration = salesforceDataSourceConfiguration\n",
    "\n",
    "        if ds['type'] == \"WEB\":\n",
    "            print(f'{idx +1 } data source: WEB')\n",
    "            ds_name = f'{name}-web'\n",
    "            webcrawlerDataSourceConfiguration['webConfiguration']['sourceConfiguration']['urlConfiguration']['seedUrls'] = ds['seedUrls']\n",
    "            webcrawlerDataSourceConfiguration['webConfiguration']['crawlerConfiguration']['inclusionFilters'] = ds['inclusionFilters']\n",
    "            webcrawlerDataSourceConfiguration['webConfiguration']['crawlerConfiguration']['exclusionFilters'] = ds['exclusionFilters']\n",
    "            # print(webcrawlerDataSourceConfiguration)\n",
    "            data_source_configuration = webcrawlerDataSourceConfiguration\n",
    "            \n",
    "\n",
    "        # Create a DataSource in KnowledgeBase \n",
    "        create_ds_response = bedrock_agent_client.create_data_source(\n",
    "            name = ds_name,\n",
    "            description = description,\n",
    "            knowledgeBaseId = kb['knowledgeBaseId'],\n",
    "            dataSourceConfiguration = data_source_configuration,\n",
    "            vectorIngestionConfiguration = {\n",
    "                \"chunkingConfiguration\": chunkingStrategyConfiguration\n",
    "            }\n",
    "        )\n",
    "        ds = create_ds_response[\"dataSource\"]\n",
    "        pp.pprint(ds)\n",
    "        ds_list.append(ds)\n",
    "    return ds_list"
   ]
  },
  {
   "cell_type": "code",
   "execution_count": 32,
   "id": "a374734c-e2ba-4d90-8257-f8c44e6d0d82",
   "metadata": {},
   "outputs": [
    {
     "name": "stdout",
     "output_type": "stream",
     "text": [
      "1 data source: S3\n",
      "{'type': 'S3', 's3Configuration': {'bucketArn': 'arn:aws:s3:::dev-managinglife-aws-bedrock'}}\n"
     ]
    },
    {
     "ename": "ConflictException",
     "evalue": "An error occurred (ConflictException) when calling the CreateDataSource operation: DataSource with name bedrock-sample-knowledge-base-825-dev-managinglife-aws-bedrock already exists.",
     "output_type": "error",
     "traceback": [
      "\u001b[0;31m---------------------------------------------------------------------------\u001b[0m",
      "\u001b[0;31mConflictException\u001b[0m                         Traceback (most recent call last)",
      "Cell \u001b[0;32mIn[32], line 1\u001b[0m\n\u001b[0;32m----> 1\u001b[0m data_sources_list \u001b[38;5;241m=\u001b[39m \u001b[43mcreate_ds\u001b[49m\u001b[43m(\u001b[49m\u001b[43mdata_sources\u001b[49m\u001b[43m)\u001b[49m\n\u001b[1;32m      2\u001b[0m data_sources_list\n",
      "Cell \u001b[0;32mIn[29], line 187\u001b[0m, in \u001b[0;36mcreate_ds\u001b[0;34m(data_sources)\u001b[0m\n\u001b[1;32m    183\u001b[0m     data_source_configuration \u001b[38;5;241m=\u001b[39m webcrawlerDataSourceConfiguration\n\u001b[1;32m    186\u001b[0m \u001b[38;5;66;03m# Create a DataSource in KnowledgeBase \u001b[39;00m\n\u001b[0;32m--> 187\u001b[0m create_ds_response \u001b[38;5;241m=\u001b[39m \u001b[43mbedrock_agent_client\u001b[49m\u001b[38;5;241;43m.\u001b[39;49m\u001b[43mcreate_data_source\u001b[49m\u001b[43m(\u001b[49m\n\u001b[1;32m    188\u001b[0m \u001b[43m    \u001b[49m\u001b[43mname\u001b[49m\u001b[43m \u001b[49m\u001b[38;5;241;43m=\u001b[39;49m\u001b[43m \u001b[49m\u001b[43mds_name\u001b[49m\u001b[43m,\u001b[49m\n\u001b[1;32m    189\u001b[0m \u001b[43m    \u001b[49m\u001b[43mdescription\u001b[49m\u001b[43m \u001b[49m\u001b[38;5;241;43m=\u001b[39;49m\u001b[43m \u001b[49m\u001b[43mdescription\u001b[49m\u001b[43m,\u001b[49m\n\u001b[1;32m    190\u001b[0m \u001b[43m    \u001b[49m\u001b[43mknowledgeBaseId\u001b[49m\u001b[43m \u001b[49m\u001b[38;5;241;43m=\u001b[39;49m\u001b[43m \u001b[49m\u001b[43mkb\u001b[49m\u001b[43m[\u001b[49m\u001b[38;5;124;43m'\u001b[39;49m\u001b[38;5;124;43mknowledgeBaseId\u001b[39;49m\u001b[38;5;124;43m'\u001b[39;49m\u001b[43m]\u001b[49m\u001b[43m,\u001b[49m\n\u001b[1;32m    191\u001b[0m \u001b[43m    \u001b[49m\u001b[43mdataSourceConfiguration\u001b[49m\u001b[43m \u001b[49m\u001b[38;5;241;43m=\u001b[39;49m\u001b[43m \u001b[49m\u001b[43mdata_source_configuration\u001b[49m\u001b[43m,\u001b[49m\n\u001b[1;32m    192\u001b[0m \u001b[43m    \u001b[49m\u001b[43mvectorIngestionConfiguration\u001b[49m\u001b[43m \u001b[49m\u001b[38;5;241;43m=\u001b[39;49m\u001b[43m \u001b[49m\u001b[43m{\u001b[49m\n\u001b[1;32m    193\u001b[0m \u001b[43m        \u001b[49m\u001b[38;5;124;43m\"\u001b[39;49m\u001b[38;5;124;43mchunkingConfiguration\u001b[39;49m\u001b[38;5;124;43m\"\u001b[39;49m\u001b[43m:\u001b[49m\u001b[43m \u001b[49m\u001b[43mchunkingStrategyConfiguration\u001b[49m\n\u001b[1;32m    194\u001b[0m \u001b[43m    \u001b[49m\u001b[43m}\u001b[49m\n\u001b[1;32m    195\u001b[0m \u001b[43m\u001b[49m\u001b[43m)\u001b[49m\n\u001b[1;32m    196\u001b[0m ds \u001b[38;5;241m=\u001b[39m create_ds_response[\u001b[38;5;124m\"\u001b[39m\u001b[38;5;124mdataSource\u001b[39m\u001b[38;5;124m\"\u001b[39m]\n\u001b[1;32m    197\u001b[0m pp\u001b[38;5;241m.\u001b[39mpprint(ds)\n",
      "File \u001b[0;32m/opt/homebrew/anaconda3/lib/python3.8/site-packages/botocore/client.py:569\u001b[0m, in \u001b[0;36mClientCreator._create_api_method.<locals>._api_call\u001b[0;34m(self, *args, **kwargs)\u001b[0m\n\u001b[1;32m    565\u001b[0m     \u001b[38;5;28;01mraise\u001b[39;00m \u001b[38;5;167;01mTypeError\u001b[39;00m(\n\u001b[1;32m    566\u001b[0m         \u001b[38;5;124mf\u001b[39m\u001b[38;5;124m\"\u001b[39m\u001b[38;5;132;01m{\u001b[39;00mpy_operation_name\u001b[38;5;132;01m}\u001b[39;00m\u001b[38;5;124m() only accepts keyword arguments.\u001b[39m\u001b[38;5;124m\"\u001b[39m\n\u001b[1;32m    567\u001b[0m     )\n\u001b[1;32m    568\u001b[0m \u001b[38;5;66;03m# The \"self\" in this scope is referring to the BaseClient.\u001b[39;00m\n\u001b[0;32m--> 569\u001b[0m \u001b[38;5;28;01mreturn\u001b[39;00m \u001b[38;5;28;43mself\u001b[39;49m\u001b[38;5;241;43m.\u001b[39;49m\u001b[43m_make_api_call\u001b[49m\u001b[43m(\u001b[49m\u001b[43moperation_name\u001b[49m\u001b[43m,\u001b[49m\u001b[43m \u001b[49m\u001b[43mkwargs\u001b[49m\u001b[43m)\u001b[49m\n",
      "File \u001b[0;32m/opt/homebrew/anaconda3/lib/python3.8/site-packages/botocore/client.py:1023\u001b[0m, in \u001b[0;36mBaseClient._make_api_call\u001b[0;34m(self, operation_name, api_params)\u001b[0m\n\u001b[1;32m   1019\u001b[0m     error_code \u001b[38;5;241m=\u001b[39m error_info\u001b[38;5;241m.\u001b[39mget(\u001b[38;5;124m\"\u001b[39m\u001b[38;5;124mQueryErrorCode\u001b[39m\u001b[38;5;124m\"\u001b[39m) \u001b[38;5;129;01mor\u001b[39;00m error_info\u001b[38;5;241m.\u001b[39mget(\n\u001b[1;32m   1020\u001b[0m         \u001b[38;5;124m\"\u001b[39m\u001b[38;5;124mCode\u001b[39m\u001b[38;5;124m\"\u001b[39m\n\u001b[1;32m   1021\u001b[0m     )\n\u001b[1;32m   1022\u001b[0m     error_class \u001b[38;5;241m=\u001b[39m \u001b[38;5;28mself\u001b[39m\u001b[38;5;241m.\u001b[39mexceptions\u001b[38;5;241m.\u001b[39mfrom_code(error_code)\n\u001b[0;32m-> 1023\u001b[0m     \u001b[38;5;28;01mraise\u001b[39;00m error_class(parsed_response, operation_name)\n\u001b[1;32m   1024\u001b[0m \u001b[38;5;28;01melse\u001b[39;00m:\n\u001b[1;32m   1025\u001b[0m     \u001b[38;5;28;01mreturn\u001b[39;00m parsed_response\n",
      "\u001b[0;31mConflictException\u001b[0m: An error occurred (ConflictException) when calling the CreateDataSource operation: DataSource with name bedrock-sample-knowledge-base-825-dev-managinglife-aws-bedrock already exists."
     ]
    }
   ],
   "source": [
    "data_sources_list = create_ds(data_sources)"
   ]
  },
  {
   "cell_type": "code",
   "execution_count": 34,
   "id": "723fef41-74f4-4983-92e0-e0486f8d2e7f",
   "metadata": {},
   "outputs": [
    {
     "data": {
      "text/plain": [
       "[{'createdAt': datetime.datetime(2024, 10, 7, 16, 0, 41, 110404, tzinfo=tzutc()),\n",
       "  'dataDeletionPolicy': 'DELETE',\n",
       "  'dataSourceConfiguration': {'s3Configuration': {'bucketArn': 'arn:aws:s3:::dev-managinglife-aws-bedrock'},\n",
       "   'type': 'S3'},\n",
       "  'dataSourceId': 'CNUAPTNKUR',\n",
       "  'description': 'Amazon shareholder letter knowledge base.',\n",
       "  'knowledgeBaseId': 'LSGWC8EJRL',\n",
       "  'name': 'bedrock-sample-knowledge-base-825-dev-managinglife-aws-bedrock',\n",
       "  'status': 'AVAILABLE',\n",
       "  'updatedAt': datetime.datetime(2024, 10, 7, 16, 0, 41, 110404, tzinfo=tzutc()),\n",
       "  'vectorIngestionConfiguration': {'chunkingConfiguration': {'chunkingStrategy': 'FIXED_SIZE',\n",
       "    'fixedSizeChunkingConfiguration': {'maxTokens': 512,\n",
       "     'overlapPercentage': 20}}}}]"
      ]
     },
     "execution_count": 34,
     "metadata": {},
     "output_type": "execute_result"
    }
   ],
   "source": [
    "data_sources_list"
   ]
  },
  {
   "cell_type": "code",
   "execution_count": 35,
   "id": "28da65fd-d082-434c-8056-0713bd96d7d6",
   "metadata": {},
   "outputs": [
    {
     "name": "stdout",
     "output_type": "stream",
     "text": [
      "{'ResponseMetadata': {'RequestId': 'ad5a23af-271c-457b-80ec-9e9b16c301b8', 'HTTPStatusCode': 200, 'HTTPHeaders': {'date': 'Mon, 07 Oct 2024 16:01:36 GMT', 'content-type': 'application/json', 'content-length': '627', 'connection': 'keep-alive', 'x-amzn-requestid': 'ad5a23af-271c-457b-80ec-9e9b16c301b8', 'x-amz-apigw-id': 'fSXbDGDW4osEe1w=', 'x-amzn-trace-id': 'Root=1-670405e0-0c47ecc64a0280c938f76585'}, 'RetryAttempts': 0}, 'dataSource': {'createdAt': datetime.datetime(2024, 10, 7, 16, 0, 41, 110404, tzinfo=tzutc()), 'dataDeletionPolicy': 'DELETE', 'dataSourceConfiguration': {'s3Configuration': {'bucketArn': 'arn:aws:s3:::dev-managinglife-aws-bedrock'}, 'type': 'S3'}, 'dataSourceId': 'CNUAPTNKUR', 'description': 'Amazon shareholder letter knowledge base.', 'knowledgeBaseId': 'LSGWC8EJRL', 'name': 'bedrock-sample-knowledge-base-825-dev-managinglife-aws-bedrock', 'status': 'AVAILABLE', 'updatedAt': datetime.datetime(2024, 10, 7, 16, 0, 41, 110404, tzinfo=tzutc()), 'vectorIngestionConfiguration': {'chunkingConfiguration': {'chunkingStrategy': 'FIXED_SIZE', 'fixedSizeChunkingConfiguration': {'maxTokens': 512, 'overlapPercentage': 20}}}}}\n",
      " \n"
     ]
    }
   ],
   "source": [
    "# Get DataSource \n",
    "for idx, ds in enumerate(data_sources_list):\n",
    "    print(bedrock_agent_client.get_data_source(knowledgeBaseId = kb['knowledgeBaseId'], dataSourceId = ds[\"dataSourceId\"]))\n",
    "    print(\" \")"
   ]
  },
  {
   "cell_type": "markdown",
   "id": "29afee37-432a-467a-8e4f-28e436f68fff",
   "metadata": {},
   "source": [
    "# Start Ingestions"
   ]
  },
  {
   "cell_type": "code",
   "execution_count": 36,
   "id": "2eb34127-a74b-4e3f-9326-101152fed52f",
   "metadata": {},
   "outputs": [
    {
     "name": "stdout",
     "output_type": "stream",
     "text": [
      "job 0 started successfully....\n",
      "\n",
      "{ 'dataSourceId': 'CNUAPTNKUR',\n",
      "  'ingestionJobId': 'OJ7MK6PFD6',\n",
      "  'knowledgeBaseId': 'LSGWC8EJRL',\n",
      "  'startedAt': datetime.datetime(2024, 10, 7, 16, 2, 40, 28550, tzinfo=tzutc()),\n",
      "  'statistics': { 'numberOfDocumentsDeleted': 0,\n",
      "                  'numberOfDocumentsFailed': 0,\n",
      "                  'numberOfDocumentsScanned': 13,\n",
      "                  'numberOfMetadataDocumentsModified': 0,\n",
      "                  'numberOfMetadataDocumentsScanned': 0,\n",
      "                  'numberOfModifiedDocumentsIndexed': 0,\n",
      "                  'numberOfNewDocumentsIndexed': 13},\n",
      "  'status': 'COMPLETE',\n",
      "  'updatedAt': datetime.datetime(2024, 10, 7, 16, 3, 0, 955326, tzinfo=tzutc())}\n",
      "........................................\r"
     ]
    }
   ],
   "source": [
    "interactive_sleep(30)\n",
    "ingest_jobs=[]\n",
    "# Start an ingestion job\n",
    "for idx, ds in enumerate(data_sources_list):\n",
    "    try:\n",
    "        start_job_response = bedrock_agent_client.start_ingestion_job(knowledgeBaseId = kb['knowledgeBaseId'], dataSourceId = ds[\"dataSourceId\"])\n",
    "        job = start_job_response[\"ingestionJob\"]\n",
    "        print(f\"job {idx} started successfully\\n\")\n",
    "    \n",
    "        while job['status'] not in [\"COMPLETE\", \"FAILED\", \"STOPPED\"]:\n",
    "            get_job_response = bedrock_agent_client.get_ingestion_job(\n",
    "              knowledgeBaseId = kb['knowledgeBaseId'],\n",
    "                dataSourceId = ds[\"dataSourceId\"],\n",
    "                ingestionJobId = job[\"ingestionJobId\"]\n",
    "          )\n",
    "            job = get_job_response[\"ingestionJob\"]\n",
    "        pp.pprint(job)\n",
    "        interactive_sleep(40)\n",
    "\n",
    "        ingest_jobs.append(job)\n",
    "    except Exception as e:\n",
    "        print(f\"Couldn't start {idx} job.\\n\")\n",
    "        print(e)\n",
    "    \n",
    "    "
   ]
  },
  {
   "cell_type": "code",
   "execution_count": 37,
   "id": "816c7e27-17c4-43f1-afa8-fb3aaaafbc1d",
   "metadata": {},
   "outputs": [
    {
     "name": "stdout",
     "output_type": "stream",
     "text": [
      "'LSGWC8EJRL'\n"
     ]
    }
   ],
   "source": [
    "# Print the knowledge base Id in bedrock, that corresponds to the Opensearch index in the collection we created before, we will use it for the invocation later\n",
    "kb_id = kb[\"knowledgeBaseId\"]\n",
    "pp.pprint(kb_id)"
   ]
  },
  {
   "cell_type": "code",
   "execution_count": 38,
   "id": "3cb48f77-9f5e-49db-b2f7-b6bbc2b25a74",
   "metadata": {},
   "outputs": [
    {
     "name": "stdout",
     "output_type": "stream",
     "text": [
      "Stored 'kb_id' (str)\n"
     ]
    }
   ],
   "source": [
    "# keep the kb_id for invocation later in the invoke request\n",
    "%store kb_id"
   ]
  },
  {
   "cell_type": "markdown",
   "id": "c7d42767-8303-43f6-97b3-63a4bb67eb6e",
   "metadata": {},
   "source": [
    "## Testing the Knowledge Base\n",
    "\n",
    "Retrieve and Generate API"
   ]
  },
  {
   "cell_type": "code",
   "execution_count": 40,
   "id": "7c26da1a-23d6-4709-a73c-d932425977bf",
   "metadata": {},
   "outputs": [
    {
     "name": "stdout",
     "output_type": "stream",
     "text": [
      "To change your email address in the Manage My Pain app:\n",
      "\n",
      "1. Open the app and go to the \"My Profile\" section.\n",
      "2. Expand the \"Account Information\" section and press the pencil icon next to your email address.\n",
      "3. Enter your new email address and current password, then press \"CHANGE EMAIL ADDRESS\".\n",
      "4. Check your new email inbox for a confirmation email and click the link to confirm the email change.\n",
      "5. You can now log in with your new email address.\n",
      "\n"
     ]
    }
   ],
   "source": [
    "query = \"How do I change my email?\"\n",
    "\n",
    "foundation_model = \"anthropic.claude-3-sonnet-20240229-v1:0\"\n",
    "\n",
    "response = bedrock_agent_runtime_client.retrieve_and_generate(\n",
    "    input={\n",
    "        \"text\": query\n",
    "    },\n",
    "    retrieveAndGenerateConfiguration={\n",
    "        \"type\": \"KNOWLEDGE_BASE\",\n",
    "        \"knowledgeBaseConfiguration\": {\n",
    "            'knowledgeBaseId': kb_id,\n",
    "            \"modelArn\": \"arn:aws:bedrock:{}::foundation-model/{}\".format(region_name, foundation_model),\n",
    "            \"retrievalConfiguration\": {\n",
    "                \"vectorSearchConfiguration\": {\n",
    "                    \"numberOfResults\":5\n",
    "                } \n",
    "            }\n",
    "        }\n",
    "    }\n",
    ")\n",
    "\n",
    "print(response['output']['text'],end='\\n'*2)"
   ]
  },
  {
   "cell_type": "code",
   "execution_count": 43,
   "id": "849f26dd-b970-402d-93f8-45f5f4b23a97",
   "metadata": {},
   "outputs": [
    {
     "name": "stdout",
     "output_type": "stream",
     "text": [
      "[ '# My Profile ## 1. Account Information ### a. Change Email Address 1. Go to '\n",
      "  'Account Information section Open the app and click the \"My Profile\" '\n",
      "  'button.  On the \"My Profile\" screen, expand the \"Account Information\" '\n",
      "  'section.  Press the \"pencil\" icon on the right-hand side of the email '\n",
      "  'address field.  You will be taken to \"Change Email Address\" screen. 2. '\n",
      "  'Request to change email address On the \"Change Email Address\" screen, enter '\n",
      "  'a new valid email address and your current password.  Press \"CHANGE EMAIL '\n",
      "  'ADDRESS\" to confirm the change. 3. Check email request After changed email '\n",
      "  'address, a message will pop-up at the bottom of the screen that says '\n",
      "  '\"Change email request is sent successfully, check your new email box\". 4. '\n",
      "  'Confirm change email request You will receive an email to update your email '\n",
      "  'address. Press \"Click here to confirm your email address update\". 5. Log in '\n",
      "  'to your account After you have confirmed your email address update, you can '\n",
      "  'log in using your new email address and password. ### b. Set Password 1. Go '\n",
      "  'to Account Information section Open the app and click the \"My Profile\" '\n",
      "  'button.  On the \"My Profile\" screen, expand the \"Account Information\" '\n",
      "  'section.   Press \"SET\" and wait for the following message at the bottom of '\n",
      "  'the screen: \"Password reset requested - check your email\".  Note: Only '\n",
      "  'accounts created with Google or Facebook will see the \"SET\" button. 2. '\n",
      "  'Follow link sent via email You will receive an email to set a new password '\n",
      "  'for your account. In the email, click the button: \"Click here to set a new '\n",
      "  'password\". 3. Complete and set your password It will redirect you to a page '\n",
      "  'to enter your new password and re-enter your password to confirm. Press '\n",
      "  '\"Submit\" to change your password. 4. Log in to your account After your '\n",
      "  'password successfully changed, you can log in using your email address and '\n",
      "  'password. ### c. Change Password (while logged in) 1. Go to Account '\n",
      "  'Information section Open the app and click the \"My Profile\" button.  On the '\n",
      "  '\"My Profile\" screen, expand the \"Account Information\" section.  Press the '\n",
      "  '\"pencil\" icon on the right-hand side of the password field.  You will be '\n",
      "  'taken to \"Change Password\" screen. 2. Complete password change You will be '\n",
      "  'asked to enter your old password and new password.']\n"
     ]
    }
   ],
   "source": [
    "citations = response[\"citations\"]\n",
    "contexts = []\n",
    "for citation in citations:\n",
    "    retrievedReferences = citation[\"retrievedReferences\"]\n",
    "    for reference in retrievedReferences:\n",
    "         contexts.append(reference[\"content\"][\"text\"])\n",
    "\n",
    "pp.pprint(contexts)"
   ]
  },
  {
   "cell_type": "markdown",
   "id": "eb8f63c1-3ca7-464f-8566-2f2899e221d1",
   "metadata": {},
   "source": [
    "## Testing the Knowledge Base\n",
    "\n",
    "Retrieve and Chunk API"
   ]
  },
  {
   "cell_type": "code",
   "execution_count": 45,
   "id": "f58a38d2-c511-482f-90ec-d9f6e71df816",
   "metadata": {},
   "outputs": [
    {
     "name": "stdout",
     "output_type": "stream",
     "text": [
      "Chunk 1:  # My Profile ## 1. Account Information ### a. Change Email Address 1. Go to Account Information section Open the app and click the \"My Profile\" button.  On the \"My Profile\" screen, expand the \"Account Information\" section.  Press the \"pencil\" icon on the right-hand side of the email address field.  You will be taken to \"Change Email Address\" screen. 2. Request to change email address On the \"Change Email Address\" screen, enter a new valid email address and your current password.  Press \"CHANGE EMAIL ADDRESS\" to confirm the change. 3. Check email request After changed email address, a message will pop-up at the bottom of the screen that says \"Change email request is sent successfully, check your new email box\". 4. Confirm change email request You will receive an email to update your email address. Press \"Click here to confirm your email address update\". 5. Log in to your account After you have confirmed your email address update, you can log in using your new email address and password. ### b. Set Password 1. Go to Account Information section Open the app and click the \"My Profile\" button.  On the \"My Profile\" screen, expand the \"Account Information\" section.   Press \"SET\" and wait for the following message at the bottom of the screen: \"Password reset requested - check your email\".  Note: Only accounts created with Google or Facebook will see the \"SET\" button. 2. Follow link sent via email You will receive an email to set a new password for your account. In the email, click the button: \"Click here to set a new password\". 3. Complete and set your password It will redirect you to a page to enter your new password and re-enter your password to confirm. Press \"Submit\" to change your password. 4. Log in to your account After your password successfully changed, you can log in using your email address and password. ### c. Change Password (while logged in) 1. Go to Account Information section Open the app and click the \"My Profile\" button.  On the \"My Profile\" screen, expand the \"Account Information\" section.  Press the \"pencil\" icon on the right-hand side of the password field.  You will be taken to \"Change Password\" screen. 2. Complete password change You will be asked to enter your old password and new password.\n",
      "\n",
      "Chunk 1 Location:  {'s3Location': {'uri': 's3://dev-managinglife-aws-bedrock/1. User Guide/My Profile.md'}, 'type': 'S3'}\n",
      "\n",
      "Chunk 1 Score:  0.5679892\n",
      "\n",
      "Chunk 1 Metadata:  {'x-amz-bedrock-kb-source-uri': 's3://dev-managinglife-aws-bedrock/1. User Guide/My Profile.md', 'x-amz-bedrock-kb-chunk-id': '1%3A0%3Ayay4Z5IB3U_XjE-bLB4D', 'x-amz-bedrock-kb-data-source-id': 'CNUAPTNKUR'}\n",
      "\n",
      "Chunk 2:  Go to Account Information section Open the app and click the \"My Profile\" button.  On the \"My Profile\" screen, expand the \"Account Information\" section.  Press the \"pencil\" icon on the right-hand side of the password field.  You will be taken to \"Change Password\" screen. 2. Complete password change You will be asked to enter your old password and new password. Press \"CHANGE PASSWORD\" to save your new password. 3. Confirm password changed After the password has been changed, a message will pop-up at the bottom of the screen that says: \"Password changed successfully\". ### d. Reset Password (when not logged in) 1. Access the Log In screen Press \"Menu\" at the bottom of the screen when you first open the app.  On the resulting pop-up, press \"Log In\". 2. Go to Reset Password screen On the \"Log In\" screen, scroll down to the bottom and press \"RESET PASSWORD\". 3. Request password reset On the \"Reset Password\" screen, you will be asked to enter your registered email address - press \"REQUEST PASSWORD RESET\". 4. Check change password request was sent After submitting your request, a message will pop-up at the bottom of the screen that says \"Password reset requested - check your email\". 5. Confirm the request to set a new password  You will receive an email to set a new password for your account. In the email, click the button \"Click here to set a new password\" 6. Complete and set your password It will redirect you to a page to enter your new password and re-enter your password to confirm. Press \"Submit\" then your password was successfully changed 7. Log in to your account After you have confirmed your password update, you can log in using your email address and password. ### e. Connect to Google or Facebook 1. Go to Account Information section Open the app and click the \"My Profile\" button.  On the \"My Profile\" screen, expand the \"Account Information\" section.   Select and press  \"CONNECT WITH GOOGLE\" or \"CONNECT WITH FACEBOOK\". 2. Allow access to your Google or Facebook account Press \"Allow\" to give Manage My Pain permission to access your Google or Facebook profile.  Nothing other than your email address and Profile image is shared with Manage My Pain.\n",
      "\n",
      "Chunk 2 Location:  {'s3Location': {'uri': 's3://dev-managinglife-aws-bedrock/1. User Guide/My Profile.md'}, 'type': 'S3'}\n",
      "\n",
      "Chunk 2 Score:  0.4038311\n",
      "\n",
      "Chunk 2 Metadata:  {'x-amz-bedrock-kb-source-uri': 's3://dev-managinglife-aws-bedrock/1. User Guide/My Profile.md', 'x-amz-bedrock-kb-chunk-id': '1%3A0%3Ayqy4Z5IB3U_XjE-bLB4D', 'x-amz-bedrock-kb-data-source-id': 'CNUAPTNKUR'}\n",
      "\n",
      "Chunk 3:  Pain records; daily reflections; customized lists and show preferences in each section; profile including medications and pain conditions; default filter settings, used in all views of the Results section; default overlay settings, used in the Calendar view of the Results section. ### What do I do if I forgot my password? If you forgot your password, go to the menu and press \"Login\". This will take you to the login screen.  If you then press \"RESET PASSWORD\", you will receive an email to change your password. ### How do I delete my account? If you go to the \"Account Information\" section of \"My Profile\", you will see a button at the bottom called \"DELETE ACCOUNT\". Pressing it will show a confirmation dialogue, where you will need to manually type \"DELETE\" to permanently remove your account and all associated information. Please note that once an account is deleted, it cannot be retrieved. ## 2. Subcription Plans and Credits ### What do I do if the data in the Pro version doesn't match the Lite version? This typically means that your information has not synchronized properly with your account.  We strongly recommending opening the Lite version and ensuring there are no sync errors before uninstalling it.  If you continue to have problems, please contact support. ### Will I have to purchase the Pro version for my other devices as well? No. Your purchase is now associated with your Google or Apple account. If you log into your account on another device, you will be able to install Pro without having to purchase it. ### Will I have to repurchase the Pro version if I lose or change my device? No. Your purchase is now associated with your Google or Apple account. If you log into your account on a new device, you will be able to install Pro without having to repurchase it. ## 3. Pain Conditions ### What conditions should I add? We recommend that you add conditions that are directly relevant to your chronic pain, as this information will be included in the reports intended for your care team. ### Why should I fill this information out? The primary purpose for this information is so that all reports that you generate are more comprehensive and give a fuller picture of your medical history for your care team. ### What if I can't find my Pain Condition? It is possible that we do not have your Pain Condition in our database; however, select \"Add New\" from the Search drop-down, and it will be added right away. ## 4.\n",
      "\n",
      "Chunk 3 Location:  {'s3Location': {'uri': 's3://dev-managinglife-aws-bedrock/1. User Guide/Common Questions.md'}, 'type': 'S3'}\n",
      "\n",
      "Chunk 3 Score:  0.3921659\n",
      "\n",
      "Chunk 3 Metadata:  {'x-amz-bedrock-kb-source-uri': 's3://dev-managinglife-aws-bedrock/1. User Guide/Common Questions.md', 'x-amz-bedrock-kb-chunk-id': '1%3A0%3ApYW4Z5IB3pqy478WLaft', 'x-amz-bedrock-kb-data-source-id': 'CNUAPTNKUR'}\n",
      "\n",
      "Chunk 4:  A credit will also be needed if you are a free user and want to generate a report that contains more than 30 days of information.  Pro Subscribers do not require credits to generate reports with advanced sections or including records older than 30 days. ### What version or plan is best for me? If you plan on using Manage My Pain for longer than 30 days, we strongly recommend upgrading.  If you plan on generating many reports, we recommend subscribing, as that will be more cost-effective. ### Is there an expiration date for my purchased credits? No, there is no expiration date for your purchased credits. # My Profile ## 1. Account Information ### Where is my activation email? If you do not receive an activation email, please check your Spam or Junk folder, as sometimes our emails end up there. ### Will you disclose any of my information? Never. We detail out how we protect and use your information in our Privacy Policy. ### Will you send me spam? We never share your email address. We only email you for specific actions like changing your password or requesting a report. Occasionally, we send out an email newsletter, which you are able to unsubscribe from using the link at the bottom of any of our emails. ### Do I need to create more than one account? You only need to create an account once, and then you can use the same one on all your devices and your data will be synchronized across all of them. Do I need to have the same email address for my Google and Facebook account to connect on the app? No, you do not; however, a Google and Facebook account may only be connected to a single account. ### Is it necessary to set a password when registering via Google or Facebook? No, it is not; however, you have the option have the ability to set a password so that you may log in using an email address and password. ### What information is synchronized? Pain records; daily reflections; customized lists and show preferences in each section; profile including medications and pain conditions; default filter settings, used in all views of the Results section; default overlay settings, used in the Calendar view of the Results section. ### What do I do if I forgot my password? If you forgot your password, go to the menu and press \"Login\". This will take you to the login screen.  If you then press \"RESET PASSWORD\", you will receive an email to change your password. ### How do I delete my account?\n",
      "\n",
      "Chunk 4 Location:  {'s3Location': {'uri': 's3://dev-managinglife-aws-bedrock/1. User Guide/Common Questions.md'}, 'type': 'S3'}\n",
      "\n",
      "Chunk 4 Score:  0.38661936\n",
      "\n",
      "Chunk 4 Metadata:  {'x-amz-bedrock-kb-source-uri': 's3://dev-managinglife-aws-bedrock/1. User Guide/Common Questions.md', 'x-amz-bedrock-kb-chunk-id': '1%3A0%3ApIW4Z5IB3pqy478WLaft', 'x-amz-bedrock-kb-data-source-id': 'CNUAPTNKUR'}\n",
      "\n",
      "Chunk 5:  # Settings ## 1. Language ### a. Change Language 1. Go to Settings screen Open the app, and press \"Menu\" at the bottom of the screen. You will be shown a pop-up at the bottom of the screen - select  \"Settings\". 2. Change language When you first install the app, the language will be set to \"System Default\".   Press \"System Default\" on the right-hand side. A pop-up will be shown with the list of available languages - select your language preference and the app will be displayed in the selected language, regardless of your device's language setting. ## 2. Reminders ### a. Add a Reminder 1. Go to Settings screen Open the app, and press \"Menu\" at the bottom of the screen. You will be shown a pop-up at the bottom of the screen - select  \"Settings\". 2. Add a reminder In the \"Reminders\" section, press \"ADD REMINDER\" and you will be taken to the \"Add Reminder\" screen.  Note: Any reminder after 6:45 PM will take you to the \"Add Daily Reflection\" screen when clicked if there isn't already a Daily Reflection recorded today.  Otherwise, clicking the notification will take you to the \"Add Pain Record\" screen. 3. Complete reminder settings You can set the how many times you will be notified by this reminder by setting \"Repeat every\", \"Unit of Time\" and \"Time of Day\".  For Android users, you may also toggle whether a \"Sound\" or \"Vibration\" accompanies the notification.  For iOS users, the only option is whether or not you want the the notification to be \"Silent\" or not.  If you have a value for \"Repeat every\" that is greater than 1, an option at the bottom will allow you to start the reminder as of the current time. 4. Save the reminder After you have completed the reminder, press \"ADD REMINDER\" - it will take you back to the \"Settings\" screen and the new reminder will be added to the list. ### b. Edit a Reminder 1. Go to Settings screen Open the app, and press \"Menu\" at the bottom of the screen. You will be shown a pop-up at the bottom of the screen - select  \"Settings\". 2.\n",
      "\n",
      "Chunk 5 Location:  {'s3Location': {'uri': 's3://dev-managinglife-aws-bedrock/1. User Guide/Settings.md'}, 'type': 'S3'}\n",
      "\n",
      "Chunk 5 Score:  0.38629103\n",
      "\n",
      "Chunk 5 Metadata:  {'x-amz-bedrock-kb-source-uri': 's3://dev-managinglife-aws-bedrock/1. User Guide/Settings.md', 'x-amz-bedrock-kb-chunk-id': '1%3A0%3AqYW4Z5IB3pqy478WNqfX', 'x-amz-bedrock-kb-data-source-id': 'CNUAPTNKUR'}\n",
      "\n"
     ]
    }
   ],
   "source": [
    "response_ret = bedrock_agent_runtime_client.retrieve(\n",
    "    knowledgeBaseId=kb_id, \n",
    "    nextToken='string',\n",
    "    retrievalConfiguration={\n",
    "        \"vectorSearchConfiguration\": {\n",
    "            \"numberOfResults\":5,\n",
    "        } \n",
    "    },\n",
    "    retrievalQuery={\n",
    "        \"text\": \"How do I change my email?\"\n",
    "    }\n",
    ")\n",
    "\n",
    "def response_print(retrieve_resp):\n",
    "#structure 'retrievalResults': list of contents. Each list has content, location, score, metadata\n",
    "    for num,chunk in enumerate(response_ret['retrievalResults'],1):\n",
    "        print(f'Chunk {num}: ',chunk['content']['text'],end='\\n'*2)\n",
    "        print(f'Chunk {num} Location: ',chunk['location'],end='\\n'*2)\n",
    "        print(f'Chunk {num} Score: ',chunk['score'],end='\\n'*2)\n",
    "        print(f'Chunk {num} Metadata: ',chunk['metadata'],end='\\n'*2)\n",
    "\n",
    "response_print(response_ret)"
   ]
  },
  {
   "cell_type": "markdown",
   "id": "cd4df7be-a5f3-4ace-a121-a3ab4fc19892",
   "metadata": {},
   "source": [
    "## Clean up"
   ]
  },
  {
   "cell_type": "code",
   "execution_count": 46,
   "id": "5d3286cd-c0b8-4509-96c9-2236ab4e9596",
   "metadata": {},
   "outputs": [
    {
     "data": {
      "text/plain": [
       "{'ResponseMetadata': {'RequestId': 'bb3c505c-3680-4000-a941-083a8d3b16cd',\n",
       "  'HTTPStatusCode': 200,\n",
       "  'HTTPHeaders': {'x-amzn-requestid': 'bb3c505c-3680-4000-a941-083a8d3b16cd',\n",
       "   'date': 'Mon, 07 Oct 2024 16:10:02 GMT',\n",
       "   'content-type': 'application/x-amz-json-1.0',\n",
       "   'content-length': '2',\n",
       "   'connection': 'keep-alive'},\n",
       "  'RetryAttempts': 0}}"
      ]
     },
     "execution_count": 46,
     "metadata": {},
     "output_type": "execute_result"
    }
   ],
   "source": [
    "\n",
    "# Delete KnowledgeBase\n",
    "for idx, ds in enumerate(data_sources_list):\n",
    "    bedrock_agent_client.delete_data_source(dataSourceId = ds[\"dataSourceId\"], knowledgeBaseId=kb['knowledgeBaseId'])\n",
    "bedrock_agent_client.delete_knowledge_base(knowledgeBaseId=kb['knowledgeBaseId'])\n",
    "oss_client.indices.delete(index=index_name)\n",
    "aoss_client.delete_collection(id=collection_id)\n",
    "aoss_client.delete_access_policy(type=\"data\", name=access_policy['accessPolicyDetail']['name'])\n",
    "aoss_client.delete_security_policy(type=\"network\", name=network_policy['securityPolicyDetail']['name'])\n",
    "aoss_client.delete_security_policy(type=\"encryption\", name=encryption_policy['securityPolicyDetail']['name'])"
   ]
  },
  {
   "cell_type": "code",
   "execution_count": null,
   "id": "53f62319-9f3e-49f3-8172-b284f4057c1b",
   "metadata": {},
   "outputs": [],
   "source": []
  }
 ],
 "metadata": {
  "kernelspec": {
   "display_name": "Python 3 (ipykernel)",
   "language": "python",
   "name": "python3"
  },
  "language_info": {
   "codemirror_mode": {
    "name": "ipython",
    "version": 3
   },
   "file_extension": ".py",
   "mimetype": "text/x-python",
   "name": "python",
   "nbconvert_exporter": "python",
   "pygments_lexer": "ipython3",
   "version": "3.8.19"
  }
 },
 "nbformat": 4,
 "nbformat_minor": 5
}
